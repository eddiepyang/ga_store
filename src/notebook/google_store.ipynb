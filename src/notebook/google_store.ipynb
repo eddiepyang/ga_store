{
 "cells": [
  {
   "cell_type": "code",
   "execution_count": 4,
   "metadata": {},
   "outputs": [],
   "source": [
    "# loading dataframes\n",
    "import numpy as np\n",
    "import pandas as pd\n",
    "import json\n",
    "\n",
    "# system traversal\n",
    "import os\n",
    "import re\n",
    "import zipfile\n",
    "\n",
    "# seaborn\n",
    "import matplotlib.pyplot as plt\n",
    "import seaborn as sns\n",
    "\n",
    "# plotly html charting\n",
    "from plotly import tools\n",
    "import plotly.graph_objs as go\n",
    "import plotly.plotly as py\n",
    "\n",
    "\n",
    "# data processing\n",
    "from sklearn.preprocessing import FunctionTransformer, LabelBinarizer, LabelEncoder, StandardScaler, RobustScaler\n",
    "from sklearn.pipeline import make_pipeline, make_union, FeatureUnion\n",
    "from sklearn.decomposition import TruncatedSVD, NMF\n",
    "from sklearn.model_selection import train_test_split, GroupKFold\n",
    "import category_encoders as ce\n",
    "from xgboost import XGBRegressor\n",
    "\n",
    "# measurement metrics\n",
    "from sklearn.metrics import classification_report, make_scorer, mean_squared_error, mean_squared_log_error\n",
    "\n",
    "# custom classes\n",
    "from sklearn.base import BaseEstimator, TransformerMixin\n",
    "\n",
    "# charting paramemters\n",
    "from pylab import rcParams\n",
    "rcParams.update({'font.size' : 14, 'legend.fontsize' : \"small\", \n",
    "                 \"xtick.labelsize\" : 14, \"ytick.labelsize\" : 14, \n",
    "                 \"figure.figsize\":(9, 6), \"axes.titlesize\" : 20,\n",
    "                 \"axes.labelsize\" : 14, \"lines.linewidth\" : 3, \n",
    "                 \"lines.markersize\" : 10\n",
    "                })\n"
   ]
  },
  {
   "cell_type": "markdown",
   "metadata": {},
   "source": [
    "## Data import"
   ]
  },
  {
   "cell_type": "code",
   "execution_count": 5,
   "metadata": {},
   "outputs": [
    {
     "name": "stdout",
     "output_type": "stream",
     "text": [
      "['train.csv.zip', 'test.csv.zip', 'sample_submission.csv.zip', 'out']\n",
      "['train.csv']\n"
     ]
    }
   ],
   "source": [
    "def json_parse(row):\n",
    "    return json.loads(row)\n",
    "\n",
    "json_cols = ['device', 'geoNetwork', 'totals', 'trafficSource']\n",
    "files = os.listdir('../../data/')\n",
    "\n",
    "print(files)\n",
    "\n",
    "chunks = pd.read_csv(\n",
    "                   '../../data/' + files[0], converters={'device':json_parse, 'geoNetwork':json_parse, \n",
    "                                                      'totals':json_parse, 'trafficSource':json_parse},\n",
    "                    chunksize = 20000,\n",
    "    nrows = 100000\n",
    "                  )\n",
    "\n",
    "with zipfile.ZipFile(f'../../data/{files[0]}') as f:\n",
    "    print(f.namelist())"
   ]
  },
  {
   "cell_type": "code",
   "execution_count": 6,
   "metadata": {},
   "outputs": [],
   "source": [
    "def proc_chunks(chunks):\n",
    "    df_list = []\n",
    "    for chunk in chunks:\n",
    "        df_list.append(proc_data(chunk))\n",
    "    data = pd.concat(df_list, sort = False)\n",
    "    print(data.shape)\n",
    "    \n",
    "    # convert columns\n",
    "    data['visitStartTime'] = pd.to_datetime(data.visitStartTime, unit = 's')\n",
    "    data['campaignCode'] = data.campaignCode.fillna('unknown')\n",
    "    data['transactionRevenue'] = data.transactionRevenue.fillna(0).astype(int)\n",
    "    \n",
    "    return data\n",
    "\n",
    "def combine_dict(series):\n",
    "    \n",
    "    \n",
    "    n = len(series)\n",
    "    final_dict = dict()\n",
    "    \n",
    "    def get_keys(series):\n",
    "   \n",
    "        n = len(series)\n",
    "        for i in range(n):\n",
    "            cur = json.loads(series[i])\n",
    "            uncommon = final_dict.keys() ^ cur.keys()\n",
    "            \n",
    "            if uncommon is not set():\n",
    "                for item in uncommon:\n",
    "                    final_dict[item] = []\n",
    "                \n",
    "    def proc_cur(cur):\n",
    "            \n",
    "        for key in final_dict.keys():\n",
    "            \n",
    "            if key not in cur.keys():\n",
    "                final_dict[key].append(0)\n",
    "            else:\n",
    "                final_dict[key].append(cur[key])\n",
    "    \n",
    "    get_keys(series)\n",
    "                        \n",
    "    for i in range(n):\n",
    "        cur = json.loads(series[i])\n",
    "        proc_cur(cur)\n",
    "        \n",
    "    return pd.DataFrame(final_dict)\n",
    "\n",
    "def combine_dict2(series):\n",
    "\n",
    "    return pd.io.json.json_normalize(series)\n",
    "\n",
    "def proc_data(chunk):\n",
    "    \n",
    "    result = [combine_dict2(chunk[item]) for item in json_cols]\n",
    "    combined_df = pd.concat(result,axis=1, sort = False)\n",
    "    combined_df.index = chunk.index\n",
    "    \n",
    "    cols = ['channelGrouping', 'date', 'device', 'fullVisitorId', 'geoNetwork',\n",
    "       'sessionId', 'socialEngagementType', 'totals', 'trafficSource',\n",
    "       'visitId', 'visitNumber', 'visitStartTime']\n",
    "    sel = [col for col in cols if col not in json_cols]\n",
    "\n",
    "    final = pd.concat([chunk[sel], \n",
    "                 combined_df], axis = 1)\n",
    "    return final"
   ]
  },
  {
   "cell_type": "code",
   "execution_count": 7,
   "metadata": {},
   "outputs": [
    {
     "name": "stdout",
     "output_type": "stream",
     "text": [
      "(100000, 55)\n",
      "CPU times: user 20.4 s, sys: 379 ms, total: 20.7 s\n",
      "Wall time: 20.8 s\n"
     ]
    }
   ],
   "source": [
    "%%time\n",
    "final = proc_chunks(chunks)"
   ]
  },
  {
   "cell_type": "code",
   "execution_count": 8,
   "metadata": {},
   "outputs": [
    {
     "data": {
      "text/html": [
       "<div>\n",
       "<style scoped>\n",
       "    .dataframe tbody tr th:only-of-type {\n",
       "        vertical-align: middle;\n",
       "    }\n",
       "\n",
       "    .dataframe tbody tr th {\n",
       "        vertical-align: top;\n",
       "    }\n",
       "\n",
       "    .dataframe thead th {\n",
       "        text-align: right;\n",
       "    }\n",
       "</style>\n",
       "<table border=\"1\" class=\"dataframe\">\n",
       "  <thead>\n",
       "    <tr style=\"text-align: right;\">\n",
       "      <th></th>\n",
       "      <th>date</th>\n",
       "      <th>visitId</th>\n",
       "      <th>visitNumber</th>\n",
       "      <th>transactionRevenue</th>\n",
       "    </tr>\n",
       "  </thead>\n",
       "  <tbody>\n",
       "    <tr>\n",
       "      <th>count</th>\n",
       "      <td>1.000000e+05</td>\n",
       "      <td>1.000000e+05</td>\n",
       "      <td>100000.000000</td>\n",
       "      <td>1.000000e+05</td>\n",
       "    </tr>\n",
       "    <tr>\n",
       "      <th>mean</th>\n",
       "      <td>2.016536e+07</td>\n",
       "      <td>1.484710e+09</td>\n",
       "      <td>2.274210</td>\n",
       "      <td>1.819409e+06</td>\n",
       "    </tr>\n",
       "    <tr>\n",
       "      <th>std</th>\n",
       "      <td>4.694358e+03</td>\n",
       "      <td>9.166865e+06</td>\n",
       "      <td>9.260941</td>\n",
       "      <td>3.901549e+07</td>\n",
       "    </tr>\n",
       "    <tr>\n",
       "      <th>min</th>\n",
       "      <td>2.016081e+07</td>\n",
       "      <td>1.470896e+09</td>\n",
       "      <td>1.000000</td>\n",
       "      <td>0.000000e+00</td>\n",
       "    </tr>\n",
       "    <tr>\n",
       "      <th>25%</th>\n",
       "      <td>2.016111e+07</td>\n",
       "      <td>1.478832e+09</td>\n",
       "      <td>1.000000</td>\n",
       "      <td>0.000000e+00</td>\n",
       "    </tr>\n",
       "    <tr>\n",
       "      <th>50%</th>\n",
       "      <td>2.016121e+07</td>\n",
       "      <td>1.481667e+09</td>\n",
       "      <td>1.000000</td>\n",
       "      <td>0.000000e+00</td>\n",
       "    </tr>\n",
       "    <tr>\n",
       "      <th>75%</th>\n",
       "      <td>2.017050e+07</td>\n",
       "      <td>1.493684e+09</td>\n",
       "      <td>1.000000</td>\n",
       "      <td>0.000000e+00</td>\n",
       "    </tr>\n",
       "    <tr>\n",
       "      <th>max</th>\n",
       "      <td>2.017080e+07</td>\n",
       "      <td>1.501657e+09</td>\n",
       "      <td>389.000000</td>\n",
       "      <td>5.498000e+09</td>\n",
       "    </tr>\n",
       "  </tbody>\n",
       "</table>\n",
       "</div>"
      ],
      "text/plain": [
       "               date       visitId    visitNumber  transactionRevenue\n",
       "count  1.000000e+05  1.000000e+05  100000.000000        1.000000e+05\n",
       "mean   2.016536e+07  1.484710e+09       2.274210        1.819409e+06\n",
       "std    4.694358e+03  9.166865e+06       9.260941        3.901549e+07\n",
       "min    2.016081e+07  1.470896e+09       1.000000        0.000000e+00\n",
       "25%    2.016111e+07  1.478832e+09       1.000000        0.000000e+00\n",
       "50%    2.016121e+07  1.481667e+09       1.000000        0.000000e+00\n",
       "75%    2.017050e+07  1.493684e+09       1.000000        0.000000e+00\n",
       "max    2.017080e+07  1.501657e+09     389.000000        5.498000e+09"
      ]
     },
     "execution_count": 8,
     "metadata": {},
     "output_type": "execute_result"
    }
   ],
   "source": [
    "final.describe()"
   ]
  },
  {
   "cell_type": "code",
   "execution_count": 9,
   "metadata": {},
   "outputs": [
    {
     "data": {
      "text/plain": [
       "35"
      ]
     },
     "execution_count": 9,
     "metadata": {},
     "output_type": "execute_result"
    }
   ],
   "source": [
    "import gc\n",
    "gc.collect()"
   ]
  },
  {
   "cell_type": "code",
   "execution_count": 10,
   "metadata": {},
   "outputs": [],
   "source": [
    "# %%time\n",
    "# result = combine_dict(data.totals)"
   ]
  },
  {
   "cell_type": "code",
   "execution_count": 11,
   "metadata": {},
   "outputs": [],
   "source": [
    "# %%time\n",
    "# result2 = combine_dict2(data.totals)"
   ]
  },
  {
   "cell_type": "code",
   "execution_count": 12,
   "metadata": {},
   "outputs": [],
   "source": [
    "#result2.fillna(0).equals(result)"
   ]
  },
  {
   "cell_type": "code",
   "execution_count": 13,
   "metadata": {},
   "outputs": [
    {
     "data": {
      "text/plain": [
       "(0, 100000000)"
      ]
     },
     "execution_count": 13,
     "metadata": {},
     "output_type": "execute_result"
    },
    {
     "data": {
      "image/png": "[encoded data removed]",
      "text/plain": [
       "<Figure size 432x288 with 1 Axes>"
      ]
     },
     "metadata": {},
     "output_type": "display_data"
    }
   ],
   "source": [
    "final.transactionRevenue.dropna().astype(int).plot.hist(bins = 300)\n",
    "plt.xlim(0, 10**8)"
   ]
  },
  {
   "cell_type": "code",
   "execution_count": 14,
   "metadata": {},
   "outputs": [
    {
     "data": {
      "text/plain": [
       "count    1.000000e+05\n",
       "mean     1.819409e+06\n",
       "std      3.901549e+07\n",
       "min      0.000000e+00\n",
       "25%      0.000000e+00\n",
       "50%      0.000000e+00\n",
       "75%      0.000000e+00\n",
       "max      5.498000e+09\n",
       "Name: transactionRevenue, dtype: float64"
      ]
     },
     "execution_count": 14,
     "metadata": {},
     "output_type": "execute_result"
    }
   ],
   "source": [
    "final.transactionRevenue.dropna().astype(int).describe()"
   ]
  },
  {
   "cell_type": "code",
   "execution_count": 15,
   "metadata": {},
   "outputs": [
    {
     "data": {
      "text/plain": [
       "<matplotlib.axes._subplots.AxesSubplot at 0x7f44806a7e48>"
      ]
     },
     "execution_count": 15,
     "metadata": {},
     "output_type": "execute_result"
    },
    {
     "data": {
      "image/png": "[encoded data removed]",
      "text/plain": [
       "<Figure size 432x288 with 1 Axes>"
      ]
     },
     "metadata": {},
     "output_type": "display_data"
    }
   ],
   "source": [
    "final.visitNumber.value_counts(normalize=True).iloc[0:20].plot.bar()\n"
   ]
  },
  {
   "cell_type": "code",
   "execution_count": 16,
   "metadata": {},
   "outputs": [
    {
     "data": {
      "text/plain": [
       "<matplotlib.axes._subplots.AxesSubplot at 0x7f4480398c88>"
      ]
     },
     "execution_count": 16,
     "metadata": {},
     "output_type": "execute_result"
    },
    {
     "data": {
      "image/png": "[encoded data removed]",
      "text/plain": [
       "<Figure size 432x288 with 1 Axes>"
      ]
     },
     "metadata": {},
     "output_type": "display_data"
    }
   ],
   "source": [
    "final.channelGrouping.value_counts(normalize=True).plot(kind='bar')"
   ]
  },
  {
   "cell_type": "code",
   "execution_count": 17,
   "metadata": {},
   "outputs": [
    {
     "data": {
      "text/plain": [
       "<matplotlib.axes._subplots.AxesSubplot at 0x7f4480818be0>"
      ]
     },
     "execution_count": 17,
     "metadata": {},
     "output_type": "execute_result"
    },
    {
     "data": {
      "image/png": "[encoded data removed]",
      "text/plain": [
       "<Figure size 432x288 with 1 Axes>"
      ]
     },
     "metadata": {},
     "output_type": "display_data"
    }
   ],
   "source": [
    "final.fullVisitorId.value_counts().plot(kind='hist')"
   ]
  },
  {
   "cell_type": "markdown",
   "metadata": {},
   "source": [
    "## Reloading data"
   ]
  },
  {
   "cell_type": "code",
   "execution_count": 18,
   "metadata": {},
   "outputs": [],
   "source": [
    "# final = final.drop(['Unnamed: 0', 'Unnamed: 0.1'], axis = 1)\n",
    "# final.to_csv('../data/final_proc.csv',  index = False)"
   ]
  },
  {
   "cell_type": "code",
   "execution_count": 19,
   "metadata": {},
   "outputs": [],
   "source": [
    "def col_types():\n",
    "    cat_cols = []\n",
    "    num_cols = []\n",
    "    for col, dt in zip(data.dtypes.index, data.dtypes):\n",
    "        if dt == 'object':\n",
    "            cat_cols.append(col)\n",
    "        if dt == 'int64':\n",
    "            num_cols.append(col)\n",
    "    return cat_cols, num_cols"
   ]
  },
  {
   "cell_type": "code",
   "execution_count": 20,
   "metadata": {},
   "outputs": [
    {
     "name": "stdout",
     "output_type": "stream",
     "text": [
      "[Errno 17] File exists: '../../data/out/'\n"
     ]
    }
   ],
   "source": [
    "try:\n",
    "    os.makedirs('../../data/out/')\n",
    "except Exception as e:\n",
    "    print(e)\n",
    "    \n",
    "#filled = final.fillna('-1')\n",
    "final['adwordsClickInfo.isVideoAd'] = final['adwordsClickInfo.isVideoAd'].fillna(-1).astype(int)\n",
    "final['isTrueDirect'] = final['isTrueDirect'].fillna(-1).astype(int)\n",
    "final['fullVisitorId'] = final['fullVisitorId'].astype(str)\n",
    "\n",
    "final.to_hdf('../../data/out/final.h5', key = 'a', mode = 'w', format = 'table')"
   ]
  },
  {
   "cell_type": "code",
   "execution_count": 21,
   "metadata": {},
   "outputs": [],
   "source": [
    "# %%bash\n",
    "\n",
    "\n",
    "# zip ../../data/out/train_proc.zip ../../data/out/final_proc.csv\n",
    "# rm ../../data/out/final_proc.csv\n",
    "# ls"
   ]
  },
  {
   "cell_type": "code",
   "execution_count": 22,
   "metadata": {},
   "outputs": [],
   "source": [
    "final = pd.read_hdf('../../data/out/final.h5', \n",
    "                    parse_dates = ['date', 'visitStartTime'], \n",
    "                    dtype = {'fullvisitorId':float})\n",
    "\n",
    "#final.visitStartTime = pd.to_datetime(final.visitStartTime, unit = 's')\n",
    "#final['campaignCode'] = final.campaignCode.fillna('unknown')"
   ]
  },
  {
   "cell_type": "code",
   "execution_count": 23,
   "metadata": {},
   "outputs": [
    {
     "ename": "FileNotFoundError",
     "evalue": "[Errno 2] No such file or directory: '/home/epy/.plotly/credentials.json'",
     "output_type": "error",
     "traceback": [
      "\u001b[0;31m---------------------------------------------------------------------------\u001b[0m",
      "\u001b[0;31mFileNotFoundError\u001b[0m                         Traceback (most recent call last)",
      "\u001b[0;32m<ipython-input-23-700d4e17bfc3>\u001b[0m in \u001b[0;36m<module>\u001b[0;34m()\u001b[0m\n\u001b[1;32m      1\u001b[0m \u001b[0;31m# plotly needs api key to work\u001b[0m\u001b[0;34m\u001b[0m\u001b[0;34m\u001b[0m\u001b[0m\n\u001b[0;32m----> 2\u001b[0;31m \u001b[0;32mwith\u001b[0m \u001b[0mopen\u001b[0m\u001b[0;34m(\u001b[0m\u001b[0mos\u001b[0m\u001b[0;34m.\u001b[0m\u001b[0mpath\u001b[0m\u001b[0;34m.\u001b[0m\u001b[0mexpanduser\u001b[0m\u001b[0;34m(\u001b[0m\u001b[0;34m'~'\u001b[0m\u001b[0;34m)\u001b[0m \u001b[0;34m+\u001b[0m \u001b[0;34m'/.plotly/credentials.json'\u001b[0m\u001b[0;34m,\u001b[0m \u001b[0;34m'r'\u001b[0m\u001b[0;34m)\u001b[0m \u001b[0;32mas\u001b[0m \u001b[0minfile\u001b[0m\u001b[0;34m:\u001b[0m\u001b[0;34m\u001b[0m\u001b[0m\n\u001b[0m\u001b[1;32m      3\u001b[0m     \u001b[0mplotly_key\u001b[0m \u001b[0;34m=\u001b[0m \u001b[0mjson\u001b[0m\u001b[0;34m.\u001b[0m\u001b[0mload\u001b[0m\u001b[0;34m(\u001b[0m\u001b[0minfile\u001b[0m\u001b[0;34m)\u001b[0m\u001b[0;34m\u001b[0m\u001b[0m\n\u001b[1;32m      4\u001b[0m \u001b[0;34m\u001b[0m\u001b[0m\n\u001b[1;32m      5\u001b[0m \u001b[0mtools\u001b[0m\u001b[0;34m.\u001b[0m\u001b[0mset_credentials_file\u001b[0m\u001b[0;34m(\u001b[0m\u001b[0musername\u001b[0m\u001b[0;34m=\u001b[0m\u001b[0mplotly_key\u001b[0m\u001b[0;34m[\u001b[0m\u001b[0;34m'username'\u001b[0m\u001b[0;34m]\u001b[0m\u001b[0;34m,\u001b[0m \u001b[0mapi_key\u001b[0m\u001b[0;34m=\u001b[0m\u001b[0mplotly_key\u001b[0m\u001b[0;34m[\u001b[0m\u001b[0;34m'api_key'\u001b[0m\u001b[0;34m]\u001b[0m\u001b[0;34m)\u001b[0m\u001b[0;34m\u001b[0m\u001b[0m\n",
      "\u001b[0;31mFileNotFoundError\u001b[0m: [Errno 2] No such file or directory: '/home/epy/.plotly/credentials.json'"
     ]
    }
   ],
   "source": [
    "# plotly needs api key to work\n",
    "with open(os.path.expanduser('~') + '/.plotly/credentials.json', 'r') as infile:\n",
    "    plotly_key = json.load(infile)\n",
    "\n",
    "tools.set_credentials_file(username=plotly_key['username'], api_key=plotly_key['api_key'])"
   ]
  },
  {
   "cell_type": "markdown",
   "metadata": {},
   "source": [
    "## Target value"
   ]
  },
  {
   "cell_type": "code",
   "execution_count": null,
   "metadata": {},
   "outputs": [],
   "source": [
    "# plotly charting\n",
    "data = [go.Histogram(x = final.transactionRevenue.dropna(),\n",
    "                    xbins=dict(start=0, end=10**9, size = 10000000), \n",
    "                    opacity = 0.7\n",
    "                    )]\n",
    "\n",
    "\n",
    "layout = go.Layout(title = 'Transaction revenue histogram')\n",
    "fig = go.Figure(data, layout)\n",
    "py.iplot(fig)\n"
   ]
  },
  {
   "cell_type": "code",
   "execution_count": null,
   "metadata": {},
   "outputs": [],
   "source": [
    "# Create a trace\n",
    "trace = go.Scatter(\n",
    "    x = final.visitNumber.dropna(0).sample(10000),\n",
    "    y = final.log_transaction.dropna(0).sample(10000),\n",
    "    mode = 'markers'\n",
    ")\n",
    "\n",
    "layout = go.Layout(\n",
    "    xaxis=dict(\n",
    "               range = [0,30]\n",
    "              )\n",
    ")\n",
    "data = [trace]\n",
    "\n",
    "fig = go.Figure(data, layout)\n",
    "# Plot and embed in ipython notebook!\n",
    "py.iplot(fig, filename='basic-scatter')\n"
   ]
  },
  {
   "cell_type": "markdown",
   "metadata": {},
   "source": [
    "# Predictors"
   ]
  },
  {
   "cell_type": "code",
   "execution_count": 25,
   "metadata": {},
   "outputs": [],
   "source": [
    "\n",
    "final['has_transaction'] = (final.transactionRevenue.isnull() == False)*1\n",
    "final['log_transaction'] = np.log1p(final.transactionRevenue.astype(float))\n"
   ]
  },
  {
   "cell_type": "markdown",
   "metadata": {},
   "source": [
    "## Boxplots"
   ]
  },
  {
   "cell_type": "code",
   "execution_count": 26,
   "metadata": {},
   "outputs": [],
   "source": [
    "from scipy import stats"
   ]
  },
  {
   "cell_type": "code",
   "execution_count": 27,
   "metadata": {},
   "outputs": [],
   "source": [
    "def find(pattern, string):\n",
    "    try:\n",
    "        return re.match(pattern, string).group(0) \n",
    "    except:\n",
    "        pass\n",
    "    \n",
    "def num_types(column):\n",
    "    return len(final[column].value_counts(dropna=False))"
   ]
  },
  {
   "cell_type": "code",
   "execution_count": 28,
   "metadata": {},
   "outputs": [],
   "source": [
    "col_lens = {col:num_types(col) for col in final.columns.values}"
   ]
  },
  {
   "cell_type": "code",
   "execution_count": 29,
   "metadata": {},
   "outputs": [],
   "source": [
    "def dict_remove(col_lens):\n",
    "    remove_list = []\n",
    "    for key, val in col_lens.items():\n",
    "        if val == 1:\n",
    "            remove_list.append(key)\n",
    "\n",
    "    for item in remove_list:\n",
    "        col_lens.pop(item)\n",
    "    return col_lens"
   ]
  },
  {
   "cell_type": "code",
   "execution_count": 30,
   "metadata": {},
   "outputs": [],
   "source": [
    "col_lens = dict_remove(col_lens)"
   ]
  },
  {
   "cell_type": "code",
   "execution_count": 31,
   "metadata": {},
   "outputs": [
    {
     "name": "stdout",
     "output_type": "stream",
     "text": [
      "{'adContent': 32,\n",
      " 'adwordsClickInfo.adNetworkType': 3,\n",
      " 'adwordsClickInfo.gclId': 2390,\n",
      " 'adwordsClickInfo.page': 5,\n",
      " 'adwordsClickInfo.slot': 3,\n",
      " 'bounces': 2,\n",
      " 'browser': 29,\n",
      " 'campaign': 8,\n",
      " 'campaignCode': 2,\n",
      " 'channelGrouping': 8,\n",
      " 'city': 290,\n",
      " 'continent': 6,\n",
      " 'country': 183,\n",
      " 'deviceCategory': 3,\n",
      " 'hits': 165,\n",
      " 'keyword': 644,\n",
      " 'medium': 7,\n",
      " 'metro': 53,\n",
      " 'networkDomain': 7228,\n",
      " 'newVisits': 2,\n",
      " 'operatingSystem': 16,\n",
      " 'pageviews': 130,\n",
      " 'referralPath': 528,\n",
      " 'region': 218,\n",
      " 'sessionId': 99993,\n",
      " 'source': 161,\n",
      " 'subContinent': 23}\n"
     ]
    }
   ],
   "source": [
    "from pprint import pprint\n",
    "\n",
    "# print categorical columns\n",
    "\n",
    "def get_categoricals():\n",
    "    obj_cols = []\n",
    "    for i, row in zip(final[list(col_lens.keys())].dtypes.index, final[list(col_lens.keys())].dtypes):\n",
    "        if row == object and i not in ['fullVisitorId']:\n",
    "            obj_cols.append(i)\n",
    "    \n",
    "    pprint({key:val for key, val in col_lens.items() if key in obj_cols})\n",
    "    \n",
    "    return obj_cols\n",
    "\n",
    "obj_cols = get_categoricals()\n"
   ]
  },
  {
   "cell_type": "code",
   "execution_count": 32,
   "metadata": {},
   "outputs": [
    {
     "data": {
      "text/plain": [
       "['channelGrouping',\n",
       " 'sessionId',\n",
       " 'browser',\n",
       " 'deviceCategory',\n",
       " 'operatingSystem',\n",
       " 'city',\n",
       " 'continent',\n",
       " 'country',\n",
       " 'metro',\n",
       " 'networkDomain',\n",
       " 'region',\n",
       " 'subContinent',\n",
       " 'bounces',\n",
       " 'hits',\n",
       " 'newVisits',\n",
       " 'pageviews',\n",
       " 'adContent',\n",
       " 'adwordsClickInfo.adNetworkType',\n",
       " 'adwordsClickInfo.gclId',\n",
       " 'adwordsClickInfo.page',\n",
       " 'adwordsClickInfo.slot',\n",
       " 'campaign',\n",
       " 'keyword',\n",
       " 'medium',\n",
       " 'referralPath',\n",
       " 'source',\n",
       " 'campaignCode']"
      ]
     },
     "execution_count": 32,
     "metadata": {},
     "output_type": "execute_result"
    }
   ],
   "source": [
    "obj_cols"
   ]
  },
  {
   "cell_type": "code",
   "execution_count": 29,
   "metadata": {},
   "outputs": [],
   "source": [
    "target_cols = ['has_transaction', 'log_transaction', 'transactionRevenue']\n",
    "num_cols = [col for col in col_lens if col not in obj_cols + ['date', 'visitStartTime'] + target_cols]\n",
    "final[num_cols] = final[num_cols].fillna(0)"
   ]
  },
  {
   "cell_type": "code",
   "execution_count": 30,
   "metadata": {},
   "outputs": [],
   "source": [
    "def boxplot(column:str) -> str:\n",
    "    \n",
    "    result = final[column].value_counts().iloc[0:10].index\n",
    "    _ = final[final[column].apply(lambda item: item in result)].boxplot(column = 'log_transaction', by = column)\n",
    "    _ = plt.xticks(rotation=90)\n",
    "    _ = plt.title('')\n",
    "    _ = plt.suptitle(f\"log_transaction by {column}\")\n",
    "    _ = plt.xlabel('')\n"
   ]
  },
  {
   "cell_type": "code",
   "execution_count": 33,
   "metadata": {},
   "outputs": [
    {
     "ename": "NameError",
     "evalue": "name 'boxplot' is not defined",
     "output_type": "error",
     "traceback": [
      "\u001b[0;31m---------------------------------------------------------------------------\u001b[0m",
      "\u001b[0;31mNameError\u001b[0m                                 Traceback (most recent call last)",
      "\u001b[0;32m<ipython-input-33-24debb694ee6>\u001b[0m in \u001b[0;36m<module>\u001b[0;34m()\u001b[0m\n\u001b[0;32m----> 1\u001b[0;31m \u001b[0mboxplot\u001b[0m\u001b[0;34m(\u001b[0m\u001b[0;34m'pageviews'\u001b[0m\u001b[0;34m)\u001b[0m\u001b[0;34m\u001b[0m\u001b[0m\n\u001b[0m",
      "\u001b[0;31mNameError\u001b[0m: name 'boxplot' is not defined"
     ]
    }
   ],
   "source": [
    "boxplot('pageviews')"
   ]
  },
  {
   "cell_type": "code",
   "execution_count": 32,
   "metadata": {},
   "outputs": [
    {
     "data": {
      "image/png": "[encoded data removed]",
      "text/plain": [
       "<Figure size 432x288 with 1 Axes>"
      ]
     },
     "metadata": {},
     "output_type": "display_data"
    }
   ],
   "source": [
    "boxplot('region')"
   ]
  },
  {
   "cell_type": "code",
   "execution_count": 34,
   "metadata": {},
   "outputs": [
    {
     "data": {
      "image/png": "[encoded data removed]",
      "text/plain": [
       "<Figure size 432x288 with 1 Axes>"
      ]
     },
     "metadata": {},
     "output_type": "display_data"
    }
   ],
   "source": [
    "boxplot('browser')"
   ]
  },
  {
   "cell_type": "code",
   "execution_count": 33,
   "metadata": {},
   "outputs": [
    {
     "data": {
      "image/png": "[encoded data removed]",
      "text/plain": [
       "<Figure size 432x288 with 1 Axes>"
      ]
     },
     "metadata": {},
     "output_type": "display_data"
    }
   ],
   "source": [
    "boxplot('city')"
   ]
  },
  {
   "cell_type": "code",
   "execution_count": 35,
   "metadata": {},
   "outputs": [
    {
     "data": {
      "image/png": "[encoded data removed]",
      "text/plain": [
       "<Figure size 432x288 with 1 Axes>"
      ]
     },
     "metadata": {},
     "output_type": "display_data"
    }
   ],
   "source": [
    "boxplot('source')"
   ]
  },
  {
   "cell_type": "code",
   "execution_count": 38,
   "metadata": {},
   "outputs": [],
   "source": [
    "feature_cols = [col for col in final.columns if col not in ['transactionRevenue', 'has_transaction', 'log_transaction']]"
   ]
  },
  {
   "cell_type": "markdown",
   "metadata": {},
   "source": [
    "## Correlation of numeric columns"
   ]
  },
  {
   "cell_type": "code",
   "execution_count": 39,
   "metadata": {},
   "outputs": [
    {
     "data": {
      "text/html": [
       "<div>\n",
       "<style scoped>\n",
       "    .dataframe tbody tr th:only-of-type {\n",
       "        vertical-align: middle;\n",
       "    }\n",
       "\n",
       "    .dataframe tbody tr th {\n",
       "        vertical-align: top;\n",
       "    }\n",
       "\n",
       "    .dataframe thead th {\n",
       "        text-align: right;\n",
       "    }\n",
       "</style>\n",
       "<table border=\"1\" class=\"dataframe\">\n",
       "  <thead>\n",
       "    <tr style=\"text-align: right;\">\n",
       "      <th></th>\n",
       "      <th>visitId</th>\n",
       "      <th>visitNumber</th>\n",
       "      <th>isMobile</th>\n",
       "      <th>adwordsClickInfo.isVideoAd</th>\n",
       "      <th>isTrueDirect</th>\n",
       "      <th>log_transaction</th>\n",
       "    </tr>\n",
       "  </thead>\n",
       "  <tbody>\n",
       "    <tr>\n",
       "      <th>visitId</th>\n",
       "      <td>1.000000</td>\n",
       "      <td>0.004475</td>\n",
       "      <td>0.151480</td>\n",
       "      <td>0.047321</td>\n",
       "      <td>0.043364</td>\n",
       "      <td>0.008068</td>\n",
       "    </tr>\n",
       "    <tr>\n",
       "      <th>visitNumber</th>\n",
       "      <td>0.004475</td>\n",
       "      <td>1.000000</td>\n",
       "      <td>-0.040382</td>\n",
       "      <td>-0.002460</td>\n",
       "      <td>0.183824</td>\n",
       "      <td>0.022222</td>\n",
       "    </tr>\n",
       "    <tr>\n",
       "      <th>isMobile</th>\n",
       "      <td>0.151480</td>\n",
       "      <td>-0.040382</td>\n",
       "      <td>1.000000</td>\n",
       "      <td>0.087597</td>\n",
       "      <td>0.073441</td>\n",
       "      <td>-0.045831</td>\n",
       "    </tr>\n",
       "    <tr>\n",
       "      <th>adwordsClickInfo.isVideoAd</th>\n",
       "      <td>0.047321</td>\n",
       "      <td>-0.002460</td>\n",
       "      <td>0.087597</td>\n",
       "      <td>1.000000</td>\n",
       "      <td>-0.050479</td>\n",
       "      <td>0.012061</td>\n",
       "    </tr>\n",
       "    <tr>\n",
       "      <th>isTrueDirect</th>\n",
       "      <td>0.043364</td>\n",
       "      <td>0.183824</td>\n",
       "      <td>0.073441</td>\n",
       "      <td>-0.050479</td>\n",
       "      <td>1.000000</td>\n",
       "      <td>0.086777</td>\n",
       "    </tr>\n",
       "    <tr>\n",
       "      <th>log_transaction</th>\n",
       "      <td>0.008068</td>\n",
       "      <td>0.022222</td>\n",
       "      <td>-0.045831</td>\n",
       "      <td>0.012061</td>\n",
       "      <td>0.086777</td>\n",
       "      <td>1.000000</td>\n",
       "    </tr>\n",
       "  </tbody>\n",
       "</table>\n",
       "</div>"
      ],
      "text/plain": [
       "                             visitId  visitNumber  isMobile  \\\n",
       "visitId                     1.000000     0.004475  0.151480   \n",
       "visitNumber                 0.004475     1.000000 -0.040382   \n",
       "isMobile                    0.151480    -0.040382  1.000000   \n",
       "adwordsClickInfo.isVideoAd  0.047321    -0.002460  0.087597   \n",
       "isTrueDirect                0.043364     0.183824  0.073441   \n",
       "log_transaction             0.008068     0.022222 -0.045831   \n",
       "\n",
       "                            adwordsClickInfo.isVideoAd  isTrueDirect  \\\n",
       "visitId                                       0.047321      0.043364   \n",
       "visitNumber                                  -0.002460      0.183824   \n",
       "isMobile                                      0.087597      0.073441   \n",
       "adwordsClickInfo.isVideoAd                    1.000000     -0.050479   \n",
       "isTrueDirect                                 -0.050479      1.000000   \n",
       "log_transaction                               0.012061      0.086777   \n",
       "\n",
       "                            log_transaction  \n",
       "visitId                            0.008068  \n",
       "visitNumber                        0.022222  \n",
       "isMobile                          -0.045831  \n",
       "adwordsClickInfo.isVideoAd         0.012061  \n",
       "isTrueDirect                       0.086777  \n",
       "log_transaction                    1.000000  "
      ]
     },
     "execution_count": 39,
     "metadata": {},
     "output_type": "execute_result"
    }
   ],
   "source": [
    "final[num_cols + ['log_transaction']].corr()"
   ]
  },
  {
   "cell_type": "markdown",
   "metadata": {},
   "source": [
    "## Feature selection"
   ]
  },
  {
   "cell_type": "code",
   "execution_count": 40,
   "metadata": {},
   "outputs": [],
   "source": [
    "# from sklearn documentation\n",
    "class ItemSelector(BaseEstimator, TransformerMixin):\n",
    "    \"\"\"For data grouped by feature, select subset of data at a provided key.\n",
    "\n",
    "    The data is expected to be stored in a 2D data structure, where the first\n",
    "    index is over features and the second is over samples.  i.e.\n",
    "\n",
    "    >> len(data[key]) == n_samples\n",
    "\n",
    "    Please note that this is the opposite convention to scikit-learn feature\n",
    "    matrixes (where the first index corresponds to sample).\n",
    "\n",
    "    ItemSelector only requires that the collection implement getitem\n",
    "    (data[key]).  Examples include: a dict of lists, 2D numpy array, Pandas\n",
    "    DataFrame, numpy record array, etc.\n",
    "\n",
    "    >> data = {'a': [1, 5, 2, 5, 2, 8],\n",
    "               'b': [9, 4, 1, 4, 1, 3]}\n",
    "    >> ds = ItemSelector(key='a')\n",
    "    >> data['a'] == ds.transform(data)\n",
    "\n",
    "    ItemSelector is not designed to handle data grouped by sample.  (e.g. a\n",
    "    list of dicts).  If your data is structured this way, consider a\n",
    "    transformer along the lines of `sklearn.feature_extraction.DictVectorizer`.\n",
    "\n",
    "    Parameters\n",
    "    ----------\n",
    "    key : hashable, required\n",
    "        The key corresponding to the desired value in a mappable.\n",
    "    \"\"\"\n",
    "    def __init__(self, key):\n",
    "        self.key = key\n",
    "\n",
    "    def fit(self, x, y=None):\n",
    "        return self\n",
    "\n",
    "    def transform(self, data_dict):\n",
    "        return data_dict[self.key]"
   ]
  },
  {
   "cell_type": "code",
   "execution_count": null,
   "metadata": {},
   "outputs": [],
   "source": [
    "set(feature_cols) ^ set(num_cols + obj_cols)"
   ]
  },
  {
   "cell_type": "code",
   "execution_count": 2,
   "metadata": {},
   "outputs": [
    {
     "ename": "NameError",
     "evalue": "name 'obj_cols' is not defined",
     "output_type": "error",
     "traceback": [
      "\u001b[0;31m---------------------------------------------------------------------------\u001b[0m",
      "\u001b[0;31mNameError\u001b[0m                                 Traceback (most recent call last)",
      "\u001b[0;32m<ipython-input-2-d3652be274cb>\u001b[0m in \u001b[0;36m<module>\u001b[0;34m()\u001b[0m\n\u001b[0;32m----> 1\u001b[0;31m \u001b[0mobj_cols\u001b[0m\u001b[0;34m\u001b[0m\u001b[0m\n\u001b[0m",
      "\u001b[0;31mNameError\u001b[0m: name 'obj_cols' is not defined"
     ]
    }
   ],
   "source": [
    "obj_"
   ]
  },
  {
   "cell_type": "code",
   "execution_count": null,
   "metadata": {},
   "outputs": [],
   "source": [
    "%%time \n",
    "result = categorical_pipe.fit_transform(final, final['transactionRevenue'])"
   ]
  },
  {
   "cell_type": "code",
   "execution_count": null,
   "metadata": {},
   "outputs": [],
   "source": [
    "result2 = numerical_pipe.fit_transform(final.fillna(0), final['transactionRevenue'])"
   ]
  },
  {
   "cell_type": "code",
   "execution_count": null,
   "metadata": {},
   "outputs": [],
   "source": [
    "final['has_transaction'].value_counts()"
   ]
  },
  {
   "cell_type": "code",
   "execution_count": 43,
   "metadata": {},
   "outputs": [],
   "source": [
    "from sklearn.datasets import make_classification\n",
    "from sklearn.ensemble import ExtraTreesClassifier, RandomForestClassifier\n",
    "from sklearn.preprocessing import Imputer\n",
    "\n",
    "# building model with pipes\n",
    "#categorical_pipe = make_pipeline(ItemSelector(obj_cols), ce.leave_one_out.LeaveOneOutEncoder())\n",
    "    \n",
    "#categorical_pipe = make_pipeline(ItemSelector(obj_cols), ce.ordinal.OrdinalEncoder())\n",
    "\n",
    "categorical_pipe = make_pipeline(ItemSelector(obj_cols), ce.one_hot.OneHotEncoder())\n",
    "#boolean_pipe = make_pipeline(ItemSelector(booleans), ce.one_hot.OneHotEncoder())\n",
    "\n",
    "numerical_pipe = make_pipeline(ItemSelector(num_cols), RobustScaler())\n",
    "\n",
    "transform_pipe = \\\n",
    "make_pipeline(\n",
    "    FeatureUnion(n_jobs = 8, transformer_list = [\n",
    "        ('cats', categorical_pipe),\n",
    "        #('bools', boolean_pipe),\n",
    "        ('nums', numerical_pipe)\n",
    "        ])\n",
    ") \n",
    "\n",
    "final_pipe = \\\n",
    "make_pipeline(\n",
    "    FeatureUnion(n_jobs = 8, transformer_list = [\n",
    "        ('cats', categorical_pipe),\n",
    "        #('bools', boolean_pipe),\n",
    "        ('nums', numerical_pipe)\n",
    "        ]), \n",
    "    ExtraTreesClassifier(n_jobs = 8, n_estimators=250,\n",
    "                              random_state=0)\n",
    ")"
   ]
  },
  {
   "cell_type": "code",
   "execution_count": null,
   "metadata": {},
   "outputs": [],
   "source": [
    "transform_pipe.__dict__['steps'][0][1]"
   ]
  },
  {
   "cell_type": "code",
   "execution_count": null,
   "metadata": {},
   "outputs": [],
   "source": [
    "len(obj_cols+num_cols)"
   ]
  },
  {
   "cell_type": "code",
   "execution_count": null,
   "metadata": {},
   "outputs": [],
   "source": [
    "feature_dict = {num:key for num, key in enumerate(obj_cols+num_cols)}"
   ]
  },
  {
   "cell_type": "code",
   "execution_count": null,
   "metadata": {},
   "outputs": [],
   "source": [
    "feature_dict"
   ]
  },
  {
   "cell_type": "code",
   "execution_count": null,
   "metadata": {},
   "outputs": [],
   "source": [
    "from pprint import pprint\n",
    "transform_pipe.__dict__['steps'][0][1].__dict__['transformer_list'][0][1].__dict__['steps'][0][1].__dict__"
   ]
  },
  {
   "cell_type": "code",
   "execution_count": null,
   "metadata": {},
   "outputs": [],
   "source": [
    "# http://scikit-learn.org/stable/auto_examples/ensemble/plot_forest_importances.html#sphx-glr-auto-examples-ensemble-plot-forest-importances-py\n",
    "from collections import OrderedDict\n",
    "\n",
    "# Build a forest and compute the feature importances\n",
    "forest = ExtraTreesClassifier(n_jobs = 8, n_estimators=250, random_state=0)\n",
    "\n",
    "result = transform_pipe.fit_transform(final)\n",
    "forest.fit(result, final['has_transaction'])\n",
    "\n",
    "importances = forest.feature_importances_\n",
    "std = np.std([tree.feature_importances_ for tree in forest.estimators_],\n",
    "             axis=0)\n",
    "indices = np.argsort(importances)[::-1]\n",
    "\n",
    "# Print the feature ranking\n",
    "print(\"Feature ranking:\")\n",
    "\n",
    "featimp_dict = OrderedDict()\n",
    "for f in range(result.shape[1]):\n",
    "    print(\"%d. feature %s (%f)\" % (f + 1, feature_dict[indices[f]], importances[indices[f]]))\n",
    "    featimp_dict[feature_dict[indices[f]]] = importances[indices[f]]\n",
    "    \n",
    "# Plot the feature importances of the forest\n",
    "plt.figure()\n",
    "plt.title(\"Feature importances\")\n",
    "plt.bar(range(result.shape[1]), importances[indices],\n",
    "       color=\"r\", yerr=std[indices], align=\"center\")\n",
    "plt.xticks(range(result.shape[1]), featimp_dict.keys(), rotation = 90)\n",
    "plt.xlim([-1, result.shape[1]])\n",
    "plt.show()"
   ]
  },
  {
   "cell_type": "code",
   "execution_count": null,
   "metadata": {},
   "outputs": [],
   "source": [
    "rf = RandomForestClassifier(random_state = 42, n_jobs = 8, n_estimators=300)\n",
    "rf.fit(result, final['has_transaction'])"
   ]
  },
  {
   "cell_type": "code",
   "execution_count": null,
   "metadata": {},
   "outputs": [],
   "source": [
    "featimp_dict = {key:val for key, val in zip(obj_cols+num_cols, rf.feature_importances_)}"
   ]
  },
  {
   "cell_type": "code",
   "execution_count": null,
   "metadata": {},
   "outputs": [],
   "source": [
    "featimp_dict.get('channelGrouping')"
   ]
  },
  {
   "cell_type": "code",
   "execution_count": null,
   "metadata": {},
   "outputs": [],
   "source": [
    "from collections import OrderedDict\n",
    "from operator import itemgetter\n",
    "forest_imp_order = OrderedDict(sorted(featimp_dict.items(), key=itemgetter(1), reverse=True))\n",
    "\n"
   ]
  },
  {
   "cell_type": "code",
   "execution_count": null,
   "metadata": {},
   "outputs": [],
   "source": [
    "freq_visitors = final.fullVisitorId.value_counts()[0:20]"
   ]
  },
  {
   "cell_type": "code",
   "execution_count": null,
   "metadata": {},
   "outputs": [],
   "source": [
    "final.head()"
   ]
  },
  {
   "cell_type": "code",
   "execution_count": null,
   "metadata": {},
   "outputs": [],
   "source": [
    "visitor_example = final[final.fullVisitorId == freq_visitors.index[0]].sort_values('visitStartTime')"
   ]
  },
  {
   "cell_type": "code",
   "execution_count": null,
   "metadata": {},
   "outputs": [],
   "source": [
    "visitor_example.columns"
   ]
  },
  {
   "cell_type": "code",
   "execution_count": null,
   "metadata": {},
   "outputs": [],
   "source": [
    "sns.set_style('whitegrid')\n"
   ]
  },
  {
   "cell_type": "code",
   "execution_count": null,
   "metadata": {},
   "outputs": [],
   "source": [
    "_ = visitor_example[['visitStartTime', 'transactionRevenue']].fillna(0).hist(figsize=(9,6))\n",
    "_ = plt.xlabel('Dollar amount')\n",
    "_ = plt.ylabel('Count')\n",
    "_ = plt.title('Revenue histogram')"
   ]
  },
  {
   "cell_type": "code",
   "execution_count": null,
   "metadata": {},
   "outputs": [],
   "source": [
    "_ = plt.figure(figsize = (9,6))\n",
    "_ = sns.lineplot(x = 'visitStartTime', y = 'transactionRevenue', data = visitor_example[['visitStartTime', 'transactionRevenue']].fillna(0))\n",
    "_ = plt.xticks(rotation = 90)\n",
    "\n"
   ]
  }
 ],
 "metadata": {
  "kernelspec": {
   "display_name": "Python 3",
   "language": "python",
   "name": "python3"
  },
  "language_info": {
   "codemirror_mode": {
    "name": "ipython",
    "version": 3
   },
   "file_extension": ".py",
   "mimetype": "text/x-python",
   "name": "python",
   "nbconvert_exporter": "python",
   "pygments_lexer": "ipython3",
   "version": "3.6.6"
  }
 },
 "nbformat": 4,
 "nbformat_minor": 2
}
