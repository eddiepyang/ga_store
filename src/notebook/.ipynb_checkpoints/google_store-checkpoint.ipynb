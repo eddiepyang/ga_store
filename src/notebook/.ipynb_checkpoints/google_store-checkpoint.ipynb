{
 "cells": [
  {
   "cell_type": "code",
   "execution_count": 12,
   "metadata": {},
   "outputs": [],
   "source": [
    "# loading dataframes\n",
    "import numpy as np\n",
    "import pandas as pd\n",
    "import json\n",
    "\n",
    "# system traversal\n",
    "import os\n",
    "import re\n",
    "import zipfile\n",
    "\n",
    "# seaborn\n",
    "import matplotlib.pyplot as plt\n",
    "import seaborn as sns\n",
    "\n",
    "# plotly html charting\n",
    "from plotly import tools\n",
    "import plotly.graph_objs as go\n",
    "import plotly.plotly as py\n",
    "\n",
    "\n",
    "# data processing\n",
    "from sklearn.preprocessing import FunctionTransformer, LabelBinarizer, LabelEncoder, StandardScaler, RobustScaler\n",
    "from sklearn.pipeline import make_pipeline, make_union, FeatureUnion\n",
    "from sklearn.decomposition import TruncatedSVD, NMF\n",
    "from sklearn.model_selection import train_test_split, GroupKFold\n",
    "import category_encoders as ce\n",
    "from xgboost import XGBRegressor\n",
    "\n",
    "# measurement metrics\n",
    "from sklearn.metrics import classification_report, make_scorer, mean_squared_error, mean_squared_log_error\n",
    "\n",
    "# custom classes\n",
    "from sklearn.base import BaseEstimator, TransformerMixin\n",
    "\n",
    "# charting paramemters\n",
    "from pylab import rcParams\n",
    "rcParams.update({'font.size' : 14, 'legend.fontsize' : \"small\", \n",
    "                 \"xtick.labelsize\" : 14, \"ytick.labelsize\" : 14, \n",
    "                 \"figure.figsize\":(9, 6), \"axes.titlesize\" : 20,\n",
    "                 \"axes.labelsize\" : 14, \"lines.linewidth\" : 3, \n",
    "                 \"lines.markersize\" : 10\n",
    "                })\n"
   ]
  },
  {
   "cell_type": "markdown",
   "metadata": {},
   "source": [
    "## Data import"
   ]
  },
  {
   "cell_type": "code",
   "execution_count": 13,
   "metadata": {},
   "outputs": [
    {
     "name": "stdout",
     "output_type": "stream",
     "text": [
      "['train.csv.zip', 'test.csv.zip', 'sample_submission.csv.zip']\n",
      "['train.csv']\n"
     ]
    }
   ],
   "source": [
    "def json_parse(row):\n",
    "    return json.loads(row)\n",
    "\n",
    "json_cols = ['device', 'geoNetwork', 'totals', 'trafficSource']\n",
    "files = os.listdir('../../data/')\n",
    "\n",
    "print(files)\n",
    "\n",
    "data = pd.read_csv(\n",
    "                   '../../data/' + files[0], converters={'device':json_parse, 'geoNetwork':json_parse, \n",
    "                                                      'totals':json_parse, 'trafficSource':json_parse},\n",
    "                    low_memory = False,\n",
    "                    nrows = 100000\n",
    "                  )\n",
    "\n",
    "with zipfile.ZipFile(f'../../data/{files[0]}') as f:\n",
    "    print(f.namelist())"
   ]
  },
  {
   "cell_type": "code",
   "execution_count": 15,
   "metadata": {},
   "outputs": [
    {
     "data": {
      "text/plain": [
       "9.155349731445312"
      ]
     },
     "execution_count": 15,
     "metadata": {},
     "output_type": "execute_result"
    }
   ],
   "source": [
    "# Mbs\n",
    "data.memory_usage().sum()/1024**2"
   ]
  },
  {
   "cell_type": "code",
   "execution_count": 16,
   "metadata": {},
   "outputs": [],
   "source": [
    "def combine_dict(series):\n",
    "    \n",
    "    \n",
    "    n = len(series)\n",
    "    final_dict = dict()\n",
    "    \n",
    "    def get_keys(series):\n",
    "   \n",
    "        n = len(series)\n",
    "        for i in range(n):\n",
    "            cur = json.loads(series[i])\n",
    "            uncommon = final_dict.keys() ^ cur.keys()\n",
    "            \n",
    "            if uncommon is not set():\n",
    "                for item in uncommon:\n",
    "                    final_dict[item] = []\n",
    "                \n",
    "                \n",
    "        \n",
    "            \n",
    "    def proc_cur(cur):\n",
    "            \n",
    "        for key in final_dict.keys():\n",
    "            \n",
    "            if key not in cur.keys():\n",
    "                final_dict[key].append(0)\n",
    "            else:\n",
    "                final_dict[key].append(cur[key])\n",
    "    \n",
    "    get_keys(series)\n",
    "                        \n",
    "    for i in range(n):\n",
    "        cur = json.loads(series[i])\n",
    "        proc_cur(cur)\n",
    "        \n",
    "    return pd.DataFrame(final_dict)\n",
    "\n",
    "def combine_dict2(series):\n",
    "\n",
    "    return pd.io.json.json_normalize(series)"
   ]
  },
  {
   "cell_type": "code",
   "execution_count": 47,
   "metadata": {},
   "outputs": [
    {
     "name": "stdout",
     "output_type": "stream",
     "text": [
      "CPU times: user 39.6 s, sys: 7.95 ms, total: 39.6 s\n",
      "Wall time: 39.6 s\n"
     ]
    }
   ],
   "source": [
    "%%time\n",
    "result = combine_dict(data.totals)"
   ]
  },
  {
   "cell_type": "code",
   "execution_count": 17,
   "metadata": {},
   "outputs": [
    {
     "name": "stdout",
     "output_type": "stream",
     "text": [
      "CPU times: user 1.59 s, sys: 6.23 ms, total: 1.6 s\n",
      "Wall time: 1.6 s\n"
     ]
    }
   ],
   "source": [
    "%%time\n",
    "result2 = combine_dict2(data.totals)"
   ]
  },
  {
   "cell_type": "code",
   "execution_count": 50,
   "metadata": {},
   "outputs": [
    {
     "data": {
      "text/html": [
       "<div>\n",
       "<style scoped>\n",
       "    .dataframe tbody tr th:only-of-type {\n",
       "        vertical-align: middle;\n",
       "    }\n",
       "\n",
       "    .dataframe tbody tr th {\n",
       "        vertical-align: top;\n",
       "    }\n",
       "\n",
       "    .dataframe thead th {\n",
       "        text-align: right;\n",
       "    }\n",
       "</style>\n",
       "<table border=\"1\" class=\"dataframe\">\n",
       "  <thead>\n",
       "    <tr style=\"text-align: right;\">\n",
       "      <th></th>\n",
       "      <th>bounces</th>\n",
       "      <th>newVisits</th>\n",
       "      <th>visits</th>\n",
       "      <th>hits</th>\n",
       "      <th>pageviews</th>\n",
       "      <th>transactionRevenue</th>\n",
       "    </tr>\n",
       "  </thead>\n",
       "  <tbody>\n",
       "    <tr>\n",
       "      <th>0</th>\n",
       "      <td>1</td>\n",
       "      <td>1</td>\n",
       "      <td>1</td>\n",
       "      <td>1</td>\n",
       "      <td>1</td>\n",
       "      <td>0</td>\n",
       "    </tr>\n",
       "    <tr>\n",
       "      <th>1</th>\n",
       "      <td>1</td>\n",
       "      <td>1</td>\n",
       "      <td>1</td>\n",
       "      <td>1</td>\n",
       "      <td>1</td>\n",
       "      <td>0</td>\n",
       "    </tr>\n",
       "    <tr>\n",
       "      <th>2</th>\n",
       "      <td>1</td>\n",
       "      <td>1</td>\n",
       "      <td>1</td>\n",
       "      <td>1</td>\n",
       "      <td>1</td>\n",
       "      <td>0</td>\n",
       "    </tr>\n",
       "    <tr>\n",
       "      <th>3</th>\n",
       "      <td>1</td>\n",
       "      <td>1</td>\n",
       "      <td>1</td>\n",
       "      <td>1</td>\n",
       "      <td>1</td>\n",
       "      <td>0</td>\n",
       "    </tr>\n",
       "    <tr>\n",
       "      <th>4</th>\n",
       "      <td>1</td>\n",
       "      <td>0</td>\n",
       "      <td>1</td>\n",
       "      <td>1</td>\n",
       "      <td>1</td>\n",
       "      <td>0</td>\n",
       "    </tr>\n",
       "  </tbody>\n",
       "</table>\n",
       "</div>"
      ],
      "text/plain": [
       "  bounces newVisits visits hits pageviews transactionRevenue\n",
       "0       1         1      1    1         1                  0\n",
       "1       1         1      1    1         1                  0\n",
       "2       1         1      1    1         1                  0\n",
       "3       1         1      1    1         1                  0\n",
       "4       1         0      1    1         1                  0"
      ]
     },
     "execution_count": 50,
     "metadata": {},
     "output_type": "execute_result"
    }
   ],
   "source": [
    "result.head()"
   ]
  },
  {
   "cell_type": "code",
   "execution_count": 52,
   "metadata": {},
   "outputs": [
    {
     "data": {
      "text/html": [
       "<div>\n",
       "<style scoped>\n",
       "    .dataframe tbody tr th:only-of-type {\n",
       "        vertical-align: middle;\n",
       "    }\n",
       "\n",
       "    .dataframe tbody tr th {\n",
       "        vertical-align: top;\n",
       "    }\n",
       "\n",
       "    .dataframe thead th {\n",
       "        text-align: right;\n",
       "    }\n",
       "</style>\n",
       "<table border=\"1\" class=\"dataframe\">\n",
       "  <thead>\n",
       "    <tr style=\"text-align: right;\">\n",
       "      <th></th>\n",
       "      <th>bounces</th>\n",
       "      <th>hits</th>\n",
       "      <th>newVisits</th>\n",
       "      <th>pageviews</th>\n",
       "      <th>transactionRevenue</th>\n",
       "      <th>visits</th>\n",
       "    </tr>\n",
       "  </thead>\n",
       "  <tbody>\n",
       "    <tr>\n",
       "      <th>0</th>\n",
       "      <td>1</td>\n",
       "      <td>1</td>\n",
       "      <td>1</td>\n",
       "      <td>1</td>\n",
       "      <td>0</td>\n",
       "      <td>1</td>\n",
       "    </tr>\n",
       "    <tr>\n",
       "      <th>1</th>\n",
       "      <td>1</td>\n",
       "      <td>1</td>\n",
       "      <td>1</td>\n",
       "      <td>1</td>\n",
       "      <td>0</td>\n",
       "      <td>1</td>\n",
       "    </tr>\n",
       "    <tr>\n",
       "      <th>2</th>\n",
       "      <td>1</td>\n",
       "      <td>1</td>\n",
       "      <td>1</td>\n",
       "      <td>1</td>\n",
       "      <td>0</td>\n",
       "      <td>1</td>\n",
       "    </tr>\n",
       "    <tr>\n",
       "      <th>3</th>\n",
       "      <td>1</td>\n",
       "      <td>1</td>\n",
       "      <td>1</td>\n",
       "      <td>1</td>\n",
       "      <td>0</td>\n",
       "      <td>1</td>\n",
       "    </tr>\n",
       "    <tr>\n",
       "      <th>4</th>\n",
       "      <td>1</td>\n",
       "      <td>1</td>\n",
       "      <td>0</td>\n",
       "      <td>1</td>\n",
       "      <td>0</td>\n",
       "      <td>1</td>\n",
       "    </tr>\n",
       "  </tbody>\n",
       "</table>\n",
       "</div>"
      ],
      "text/plain": [
       "  bounces hits newVisits pageviews transactionRevenue visits\n",
       "0       1    1         1         1                  0      1\n",
       "1       1    1         1         1                  0      1\n",
       "2       1    1         1         1                  0      1\n",
       "3       1    1         1         1                  0      1\n",
       "4       1    1         0         1                  0      1"
      ]
     },
     "execution_count": 52,
     "metadata": {},
     "output_type": "execute_result"
    }
   ],
   "source": [
    "result2.fillna(0).head()"
   ]
  },
  {
   "cell_type": "code",
   "execution_count": 51,
   "metadata": {},
   "outputs": [
    {
     "data": {
      "text/plain": [
       "False"
      ]
     },
     "execution_count": 51,
     "metadata": {},
     "output_type": "execute_result"
    }
   ],
   "source": [
    "result2.fillna(0).equals(result)"
   ]
  },
  {
   "cell_type": "code",
   "execution_count": 18,
   "metadata": {},
   "outputs": [],
   "source": [
    "def proc_data():\n",
    "    result = [combine_dict2(data[item]) for item in json_cols]\n",
    "    combined_df = pd.concat(result,axis=1)\n",
    "    final = pd.merge(data[[col for col in data.columns if col not in json_cols]], \n",
    "                     combined_df, left_index=True, right_index = True)\n",
    "    return final\n",
    "\n",
    "final = proc_data()"
   ]
  },
  {
   "cell_type": "code",
   "execution_count": 85,
   "metadata": {},
   "outputs": [],
   "source": [
    "#final.to_csv('../data/processed_train.csv')"
   ]
  },
  {
   "cell_type": "code",
   "execution_count": 19,
   "metadata": {},
   "outputs": [
    {
     "data": {
      "text/plain": [
       "(0, 1000000000)"
      ]
     },
     "execution_count": 19,
     "metadata": {},
     "output_type": "execute_result"
    },
    {
     "data": {
      "image/png": "[encoded data removed]",
      "text/plain": [
       "<Figure size 648x432 with 1 Axes>"
      ]
     },
     "metadata": {},
     "output_type": "display_data"
    }
   ],
   "source": [
    "final.transactionRevenue.dropna().astype(int).plot.hist(bins = 100)\n",
    "plt.xlim(0, 10**9)"
   ]
  },
  {
   "cell_type": "code",
   "execution_count": 20,
   "metadata": {},
   "outputs": [
    {
     "data": {
      "text/plain": [
       "count    1.399000e+03\n",
       "mean     1.300507e+08\n",
       "std      3.036366e+08\n",
       "min      1.200000e+06\n",
       "25%      2.499000e+07\n",
       "50%      5.000000e+07\n",
       "75%      1.096250e+08\n",
       "max      5.498000e+09\n",
       "Name: transactionRevenue, dtype: float64"
      ]
     },
     "execution_count": 20,
     "metadata": {},
     "output_type": "execute_result"
    }
   ],
   "source": [
    "final.transactionRevenue.dropna().astype(int).describe()"
   ]
  },
  {
   "cell_type": "code",
   "execution_count": 21,
   "metadata": {},
   "outputs": [
    {
     "name": "stdout",
     "output_type": "stream",
     "text": [
      "<class 'pandas.core.frame.DataFrame'>\n",
      "RangeIndex: 100000 entries, 0 to 99999\n",
      "Data columns (total 55 columns):\n",
      "channelGrouping                        100000 non-null object\n",
      "date                                   100000 non-null int64\n",
      "fullVisitorId                          100000 non-null object\n",
      "sessionId                              100000 non-null object\n",
      "socialEngagementType                   100000 non-null object\n",
      "visitId                                100000 non-null int64\n",
      "visitNumber                            100000 non-null int64\n",
      "visitStartTime                         100000 non-null int64\n",
      "browser                                100000 non-null object\n",
      "browserSize                            100000 non-null object\n",
      "browserVersion                         100000 non-null object\n",
      "deviceCategory                         100000 non-null object\n",
      "flashVersion                           100000 non-null object\n",
      "isMobile                               100000 non-null bool\n",
      "language                               100000 non-null object\n",
      "mobileDeviceBranding                   100000 non-null object\n",
      "mobileDeviceInfo                       100000 non-null object\n",
      "mobileDeviceMarketingName              100000 non-null object\n",
      "mobileDeviceModel                      100000 non-null object\n",
      "mobileInputSelector                    100000 non-null object\n",
      "operatingSystem                        100000 non-null object\n",
      "operatingSystemVersion                 100000 non-null object\n",
      "screenColors                           100000 non-null object\n",
      "screenResolution                       100000 non-null object\n",
      "city                                   100000 non-null object\n",
      "cityId                                 100000 non-null object\n",
      "continent                              100000 non-null object\n",
      "country                                100000 non-null object\n",
      "latitude                               100000 non-null object\n",
      "longitude                              100000 non-null object\n",
      "metro                                  100000 non-null object\n",
      "networkDomain                          100000 non-null object\n",
      "networkLocation                        100000 non-null object\n",
      "region                                 100000 non-null object\n",
      "subContinent                           100000 non-null object\n",
      "bounces                                48916 non-null object\n",
      "hits                                   100000 non-null object\n",
      "newVisits                              77263 non-null object\n",
      "pageviews                              99993 non-null object\n",
      "transactionRevenue                     1399 non-null object\n",
      "visits                                 100000 non-null object\n",
      "adContent                              1325 non-null object\n",
      "adwordsClickInfo.adNetworkType         2574 non-null object\n",
      "adwordsClickInfo.criteriaParameters    100000 non-null object\n",
      "adwordsClickInfo.gclId                 2625 non-null object\n",
      "adwordsClickInfo.isVideoAd             2574 non-null object\n",
      "adwordsClickInfo.page                  2574 non-null object\n",
      "adwordsClickInfo.slot                  2574 non-null object\n",
      "campaign                               100000 non-null object\n",
      "campaignCode                           1 non-null object\n",
      "isTrueDirect                           30454 non-null object\n",
      "keyword                                44218 non-null object\n",
      "medium                                 100000 non-null object\n",
      "referralPath                           36473 non-null object\n",
      "source                                 100000 non-null object\n",
      "dtypes: bool(1), int64(4), object(50)\n",
      "memory usage: 41.3+ MB\n"
     ]
    }
   ],
   "source": [
    "final.info()"
   ]
  },
  {
   "cell_type": "code",
   "execution_count": 22,
   "metadata": {},
   "outputs": [
    {
     "data": {
      "text/plain": [
       "<matplotlib.axes._subplots.AxesSubplot at 0x7ff234eb0898>"
      ]
     },
     "execution_count": 22,
     "metadata": {},
     "output_type": "execute_result"
    },
    {
     "data": {
      "image/png": "[encoded data removed]",
      "text/plain": [
       "<Figure size 648x432 with 1 Axes>"
      ]
     },
     "metadata": {},
     "output_type": "display_data"
    }
   ],
   "source": [
    "final.visitNumber.value_counts(normalize=True)[0:20].plot.bar()\n"
   ]
  },
  {
   "cell_type": "code",
   "execution_count": 23,
   "metadata": {},
   "outputs": [
    {
     "data": {
      "text/plain": [
       "<matplotlib.axes._subplots.AxesSubplot at 0x7ff237503668>"
      ]
     },
     "execution_count": 23,
     "metadata": {},
     "output_type": "execute_result"
    },
    {
     "data": {
      "image/png": "[encoded data removed]",
      "text/plain": [
       "<Figure size 648x432 with 1 Axes>"
      ]
     },
     "metadata": {},
     "output_type": "display_data"
    }
   ],
   "source": [
    "final.channelGrouping.value_counts(normalize=True).plot(kind='bar')"
   ]
  },
  {
   "cell_type": "code",
   "execution_count": 24,
   "metadata": {},
   "outputs": [
    {
     "data": {
      "text/plain": [
       "<matplotlib.axes._subplots.AxesSubplot at 0x7ff234eddef0>"
      ]
     },
     "execution_count": 24,
     "metadata": {},
     "output_type": "execute_result"
    },
    {
     "data": {
      "image/png": "[encoded data removed]",
      "text/plain": [
       "<Figure size 648x432 with 1 Axes>"
      ]
     },
     "metadata": {},
     "output_type": "display_data"
    }
   ],
   "source": [
    "final.fullVisitorId.value_counts().plot(kind='hist')"
   ]
  },
  {
   "cell_type": "markdown",
   "metadata": {},
   "source": [
    "## Reloading data"
   ]
  },
  {
   "cell_type": "code",
   "execution_count": 376,
   "metadata": {},
   "outputs": [],
   "source": [
    "# final = final.drop(['Unnamed: 0', 'Unnamed: 0.1'], axis = 1)\n",
    "# final.to_csv('../data/final_proc.csv',  index = False)"
   ]
  },
  {
   "cell_type": "code",
   "execution_count": 31,
   "metadata": {},
   "outputs": [
    {
     "data": {
      "text/plain": [
       "(BoolBlock: slice(13, 14, 1), 1 x 100000, dtype: bool,\n",
       " IntBlock: [1, 5, 6, 7], 4 x 100000, dtype: int64,\n",
       " ObjectBlock: [0, 2, 3, 4, 8, 9, 10, 11, 12, 14, 15, 16, 17, 18, 19, 20, 21, 22, 23, 24, 25, 26, 27, 28, 29, 30, 31, 32, 33, 34, 35, 36, 37, 38, 39, 40, 41, 42, 43, 44, 45, 46, 47, 48, 49, 50, 51, 52, 53, 54], 50 x 100000, dtype: object)"
      ]
     },
     "execution_count": 31,
     "metadata": {},
     "output_type": "execute_result"
    }
   ],
   "source": [
    "final._data.blocks"
   ]
  },
  {
   "cell_type": "code",
   "execution_count": 51,
   "metadata": {},
   "outputs": [
    {
     "data": {
      "text/plain": [
       "-1      69546\n",
       "True    30454\n",
       "Name: isTrueDirect, dtype: int64"
      ]
     },
     "execution_count": 51,
     "metadata": {},
     "output_type": "execute_result"
    }
   ],
   "source": [
    "filled['isTrueDirect'].value_counts(dropna=False)"
   ]
  },
  {
   "cell_type": "code",
   "execution_count": 52,
   "metadata": {},
   "outputs": [],
   "source": [
    "#os.makedirs('../../data/out/')\n",
    "filled = final.fillna('-1')\n",
    "filled['adwordsClickInfo.isVideoAd'] = filled['adwordsClickInfo.isVideoAd'].astype(int)\n",
    "filled['isTrueDirect'] = filled['isTrueDirect'].astype(int)\n",
    "\n",
    "filled.to_hdf('../../data/out/final.h5', key = 'a', mode = 'w', format = 'table')"
   ]
  },
  {
   "cell_type": "code",
   "execution_count": 377,
   "metadata": {},
   "outputs": [
    {
     "name": "stdout",
     "output_type": "stream",
     "text": [
      "updating: final_proc.csv (deflated 93%)\n",
      "sample_submission.csv.zip\n",
      "test.csv.zip\n",
      "train.csv.zip\n",
      "train_proc.zip\n"
     ]
    }
   ],
   "source": [
    "# %%bash\n",
    "\n",
    "\n",
    "# zip ../../data/out/train_proc.zip ../../data/out/final_proc.csv\n",
    "# rm ../../data/out/final_proc.csv\n",
    "# ls"
   ]
  },
  {
   "cell_type": "code",
   "execution_count": 2,
   "metadata": {},
   "outputs": [
    {
     "name": "stderr",
     "output_type": "stream",
     "text": [
      "/home/ryeyoo/anaconda3/lib/python3.6/site-packages/IPython/core/interactiveshell.py:2785: DtypeWarning:\n",
      "\n",
      "Columns (2) have mixed types. Specify dtype option on import or set low_memory=False.\n",
      "\n"
     ]
    }
   ],
   "source": [
    "final = pd.read_csv('../data/train_proc.zip', parse_dates = ['date', 'visitStartTime'], \n",
    "                    dtype = {'fullvisitorId':float})\n",
    "#final.visitStartTime = pd.to_datetime(final.visitStartTime, unit = 's')\n",
    "#final['campaignCode'] = final.campaignCode.fillna('unknown')"
   ]
  },
  {
   "cell_type": "code",
   "execution_count": 3,
   "metadata": {},
   "outputs": [],
   "source": [
    "# plotly needs api key to work\n",
    "with open(os.path.expanduser('~') + '/.plotly/credentials.json', 'r') as infile:\n",
    "    plotly_key = json.load(infile)\n",
    "tools.set_credentials_file(username=plotly_key['username'], api_key=plotly_key['api_key'])"
   ]
  },
  {
   "cell_type": "markdown",
   "metadata": {},
   "source": [
    "## Target value"
   ]
  },
  {
   "cell_type": "code",
   "execution_count": 4,
   "metadata": {},
   "outputs": [
    {
     "data": {
      "text/html": [
       "<iframe id=\"igraph\" scrolling=\"no\" style=\"border:none;\" seamless=\"seamless\" src=\"https://plot.ly/~sockfull/44.embed\" height=\"525px\" width=\"100%\"></iframe>"
      ],
      "text/plain": [
       "<plotly.tools.PlotlyDisplay object>"
      ]
     },
     "execution_count": 4,
     "metadata": {},
     "output_type": "execute_result"
    }
   ],
   "source": [
    "# plotly charting\n",
    "data = [go.Histogram(x = final.transactionRevenue.dropna(),\n",
    "                    xbins=dict(start=0, end=10**9, size = 10000000), \n",
    "                    opacity = 0.7\n",
    "                    )]\n",
    "\n",
    "\n",
    "layout = go.Layout(title = 'Transaction revenue histogram')\n",
    "fig = go.Figure(data, layout)\n",
    "py.iplot(fig)\n"
   ]
  },
  {
   "cell_type": "code",
   "execution_count": 3,
   "metadata": {},
   "outputs": [
    {
     "data": {
      "text/html": [
       "<iframe id=\"igraph\" scrolling=\"no\" style=\"border:none;\" seamless=\"seamless\" src=\"https://plot.ly/~sockfull/46.embed\" height=\"525px\" width=\"100%\"></iframe>"
      ],
      "text/plain": [
       "<plotly.tools.PlotlyDisplay object>"
      ]
     },
     "execution_count": 3,
     "metadata": {},
     "output_type": "execute_result"
    }
   ],
   "source": [
    "# Create a trace\n",
    "trace = go.Scatter(\n",
    "    x = final.visitNumber.dropna(0).sample(10000),\n",
    "    y = final.log_transaction.dropna(0).sample(10000),\n",
    "    mode = 'markers'\n",
    ")\n",
    "\n",
    "layout = go.Layout(\n",
    "    xaxis=dict(\n",
    "               range = [0,30]\n",
    "              )\n",
    ")\n",
    "data = [trace]\n",
    "\n",
    "fig = go.Figure(data, layout)\n",
    "# Plot and embed in ipython notebook!\n",
    "py.iplot(fig, filename='basic-scatter')\n"
   ]
  },
  {
   "cell_type": "code",
   "execution_count": 5,
   "metadata": {},
   "outputs": [],
   "source": [
    "final['has_transaction'] = (final.transactionRevenue.isnull() == False)*1\n",
    "final['log_transaction'] = np.log1p(final.transactionRevenue)"
   ]
  },
  {
   "cell_type": "markdown",
   "metadata": {},
   "source": [
    "# Predictors"
   ]
  },
  {
   "cell_type": "markdown",
   "metadata": {},
   "source": [
    "## Boxplots"
   ]
  },
  {
   "cell_type": "code",
   "execution_count": 171,
   "metadata": {},
   "outputs": [],
   "source": [
    "from scipy import stats"
   ]
  },
  {
   "cell_type": "code",
   "execution_count": 324,
   "metadata": {},
   "outputs": [
    {
     "data": {
      "text/plain": [
       "<matplotlib.axes._subplots.AxesSubplot at 0x7f4c43eac358>"
      ]
     },
     "execution_count": 324,
     "metadata": {},
     "output_type": "execute_result"
    },
    {
     "data": {
      "image/png": "[encoded data removed]",
      "text/plain": [
       "<Figure size 432x288 with 1 Axes>"
      ]
     },
     "metadata": {},
     "output_type": "display_data"
    }
   ],
   "source": [
    "final.boxplot('log_transaction', by = 'channelGrouping')"
   ]
  },
  {
   "cell_type": "code",
   "execution_count": 5,
   "metadata": {},
   "outputs": [],
   "source": [
    "def find(pattern, string):\n",
    "    try:\n",
    "        return re.match(pattern, string).group(0) \n",
    "    except:\n",
    "        pass\n",
    "    \n",
    "def num_types(column):\n",
    "    return len(final[column].value_counts(dropna=False))"
   ]
  },
  {
   "cell_type": "code",
   "execution_count": 6,
   "metadata": {},
   "outputs": [],
   "source": [
    "col_lens = {col:num_types(col) for col in final.columns.values}"
   ]
  },
  {
   "cell_type": "code",
   "execution_count": 7,
   "metadata": {},
   "outputs": [],
   "source": [
    "def dict_remove(col_lens):\n",
    "    remove_list = []\n",
    "    for key, val in col_lens.items():\n",
    "        if val == 1:\n",
    "            remove_list.append(key)\n",
    "\n",
    "    for item in remove_list:\n",
    "        col_lens.pop(item)\n",
    "    return col_lens"
   ]
  },
  {
   "cell_type": "code",
   "execution_count": 8,
   "metadata": {},
   "outputs": [],
   "source": [
    "col_lens = dict_remove(col_lens)"
   ]
  },
  {
   "cell_type": "code",
   "execution_count": 9,
   "metadata": {},
   "outputs": [
    {
     "name": "stdout",
     "output_type": "stream",
     "text": [
      "{'adContent': 45,\n",
      " 'adwordsClickInfo.adNetworkType': 3,\n",
      " 'adwordsClickInfo.gclId': 17775,\n",
      " 'adwordsClickInfo.isVideoAd': 2,\n",
      " 'adwordsClickInfo.slot': 3,\n",
      " 'browser': 54,\n",
      " 'campaign': 10,\n",
      " 'campaignCode': 2,\n",
      " 'channelGrouping': 8,\n",
      " 'city': 649,\n",
      " 'continent': 6,\n",
      " 'country': 222,\n",
      " 'deviceCategory': 3,\n",
      " 'isTrueDirect': 2,\n",
      " 'keyword': 3660,\n",
      " 'medium': 7,\n",
      " 'metro': 94,\n",
      " 'networkDomain': 28064,\n",
      " 'operatingSystem': 20,\n",
      " 'referralPath': 1476,\n",
      " 'region': 376,\n",
      " 'sessionId': 902755,\n",
      " 'source': 380,\n",
      " 'subContinent': 23}\n"
     ]
    }
   ],
   "source": [
    "from pprint import pprint\n",
    "\n",
    "# print categorical columns\n",
    "\n",
    "def get_categoricals():\n",
    "    obj_cols = []\n",
    "    for i, row in zip(final[list(col_lens.keys())].dtypes.index, final[list(col_lens.keys())].dtypes):\n",
    "        if row == object and i not in ['fullVisitorId']:\n",
    "            obj_cols.append(i)\n",
    "    \n",
    "    pprint({key:val for key, val in col_lens.items() if key in obj_cols})\n",
    "    \n",
    "    return obj_cols\n",
    "\n",
    "obj_cols = get_categoricals()\n"
   ]
  },
  {
   "cell_type": "code",
   "execution_count": 10,
   "metadata": {},
   "outputs": [],
   "source": [
    "target_cols = ['has_transaction', 'log_transaction', 'transactionRevenue']\n",
    "num_cols = [col for col in col_lens if col not in obj_cols + ['date', 'visitStartTime'] + target_cols]\n",
    "final[num_cols] = final[num_cols].fillna(0)"
   ]
  },
  {
   "cell_type": "code",
   "execution_count": 11,
   "metadata": {},
   "outputs": [],
   "source": [
    "def boxplot(column:str) -> str:\n",
    "    \n",
    "    result = final[column].value_counts().iloc[0:10].index\n",
    "    _ = final[final[column].apply(lambda item: item in result)].boxplot(column = 'log_transaction', by = column)\n",
    "    _ = plt.xticks(rotation=90)\n",
    "    _ = plt.title('')\n",
    "    _ = plt.suptitle(f\"log_transaction by {column}\")\n",
    "    _ = plt.xlabel('')\n"
   ]
  },
  {
   "cell_type": "code",
   "execution_count": 65,
   "metadata": {},
   "outputs": [
    {
     "data": {
      "image/png": "[encoded data removed]",
      "text/plain": [
       "<Figure size 432x288 with 1 Axes>"
      ]
     },
     "metadata": {},
     "output_type": "display_data"
    }
   ],
   "source": [
    "boxplot('pageviews')"
   ]
  },
  {
   "cell_type": "code",
   "execution_count": 66,
   "metadata": {},
   "outputs": [
    {
     "data": {
      "image/png": "[encoded data removed]",
      "text/plain": [
       "<Figure size 432x288 with 1 Axes>"
      ]
     },
     "metadata": {},
     "output_type": "display_data"
    }
   ],
   "source": [
    "boxplot('region')"
   ]
  },
  {
   "cell_type": "code",
   "execution_count": 67,
   "metadata": {},
   "outputs": [
    {
     "data": {
      "image/png": "[encoded data removed]",
      "text/plain": [
       "<Figure size 432x288 with 1 Axes>"
      ]
     },
     "metadata": {},
     "output_type": "display_data"
    }
   ],
   "source": [
    "boxplot('browser')"
   ]
  },
  {
   "cell_type": "code",
   "execution_count": 68,
   "metadata": {},
   "outputs": [
    {
     "data": {
      "image/png": "[encoded data removed]",
      "text/plain": [
       "<Figure size 432x288 with 1 Axes>"
      ]
     },
     "metadata": {},
     "output_type": "display_data"
    }
   ],
   "source": [
    "boxplot('city')"
   ]
  },
  {
   "cell_type": "code",
   "execution_count": 69,
   "metadata": {},
   "outputs": [
    {
     "data": {
      "image/png": "[encoded data removed]",
      "text/plain": [
       "<Figure size 432x288 with 1 Axes>"
      ]
     },
     "metadata": {},
     "output_type": "display_data"
    }
   ],
   "source": [
    "boxplot('source')"
   ]
  },
  {
   "cell_type": "code",
   "execution_count": 12,
   "metadata": {},
   "outputs": [],
   "source": [
    "feature_cols = [col for col in final.columns if col not in ['transactionRevenue', 'has_transaction', 'log_transaction']]"
   ]
  },
  {
   "cell_type": "markdown",
   "metadata": {},
   "source": [
    "## Correlation of numeric columns"
   ]
  },
  {
   "cell_type": "code",
   "execution_count": 71,
   "metadata": {},
   "outputs": [
    {
     "data": {
      "text/html": [
       "<div>\n",
       "<style scoped>\n",
       "    .dataframe tbody tr th:only-of-type {\n",
       "        vertical-align: middle;\n",
       "    }\n",
       "\n",
       "    .dataframe tbody tr th {\n",
       "        vertical-align: top;\n",
       "    }\n",
       "\n",
       "    .dataframe thead th {\n",
       "        text-align: right;\n",
       "    }\n",
       "</style>\n",
       "<table border=\"1\" class=\"dataframe\">\n",
       "  <thead>\n",
       "    <tr style=\"text-align: right;\">\n",
       "      <th></th>\n",
       "      <th>visitId</th>\n",
       "      <th>visitNumber</th>\n",
       "      <th>isMobile</th>\n",
       "      <th>bounces</th>\n",
       "      <th>hits</th>\n",
       "      <th>newVisits</th>\n",
       "      <th>pageviews</th>\n",
       "      <th>adwordsClickInfo.page</th>\n",
       "      <th>log_transaction</th>\n",
       "    </tr>\n",
       "  </thead>\n",
       "  <tbody>\n",
       "    <tr>\n",
       "      <th>visitId</th>\n",
       "      <td>1.000000</td>\n",
       "      <td>0.002069</td>\n",
       "      <td>0.144332</td>\n",
       "      <td>NaN</td>\n",
       "      <td>-0.027701</td>\n",
       "      <td>NaN</td>\n",
       "      <td>-0.022259</td>\n",
       "      <td>-0.011634</td>\n",
       "      <td>-0.053335</td>\n",
       "    </tr>\n",
       "    <tr>\n",
       "      <th>visitNumber</th>\n",
       "      <td>0.002069</td>\n",
       "      <td>1.000000</td>\n",
       "      <td>-0.037667</td>\n",
       "      <td>NaN</td>\n",
       "      <td>0.041317</td>\n",
       "      <td>NaN</td>\n",
       "      <td>0.043363</td>\n",
       "      <td>-0.005168</td>\n",
       "      <td>0.142262</td>\n",
       "    </tr>\n",
       "    <tr>\n",
       "      <th>isMobile</th>\n",
       "      <td>0.144332</td>\n",
       "      <td>-0.037667</td>\n",
       "      <td>1.000000</td>\n",
       "      <td>NaN</td>\n",
       "      <td>-0.030367</td>\n",
       "      <td>NaN</td>\n",
       "      <td>-0.030199</td>\n",
       "      <td>0.010172</td>\n",
       "      <td>-0.170131</td>\n",
       "    </tr>\n",
       "    <tr>\n",
       "      <th>bounces</th>\n",
       "      <td>NaN</td>\n",
       "      <td>NaN</td>\n",
       "      <td>NaN</td>\n",
       "      <td>NaN</td>\n",
       "      <td>NaN</td>\n",
       "      <td>NaN</td>\n",
       "      <td>NaN</td>\n",
       "      <td>NaN</td>\n",
       "      <td>NaN</td>\n",
       "    </tr>\n",
       "    <tr>\n",
       "      <th>hits</th>\n",
       "      <td>-0.027701</td>\n",
       "      <td>0.041317</td>\n",
       "      <td>-0.030367</td>\n",
       "      <td>NaN</td>\n",
       "      <td>1.000000</td>\n",
       "      <td>NaN</td>\n",
       "      <td>0.983205</td>\n",
       "      <td>-0.011738</td>\n",
       "      <td>0.266041</td>\n",
       "    </tr>\n",
       "    <tr>\n",
       "      <th>newVisits</th>\n",
       "      <td>NaN</td>\n",
       "      <td>NaN</td>\n",
       "      <td>NaN</td>\n",
       "      <td>NaN</td>\n",
       "      <td>NaN</td>\n",
       "      <td>NaN</td>\n",
       "      <td>NaN</td>\n",
       "      <td>NaN</td>\n",
       "      <td>NaN</td>\n",
       "    </tr>\n",
       "    <tr>\n",
       "      <th>pageviews</th>\n",
       "      <td>-0.022259</td>\n",
       "      <td>0.043363</td>\n",
       "      <td>-0.030199</td>\n",
       "      <td>NaN</td>\n",
       "      <td>0.983205</td>\n",
       "      <td>NaN</td>\n",
       "      <td>1.000000</td>\n",
       "      <td>-0.012944</td>\n",
       "      <td>0.242192</td>\n",
       "    </tr>\n",
       "    <tr>\n",
       "      <th>adwordsClickInfo.page</th>\n",
       "      <td>-0.011634</td>\n",
       "      <td>-0.005168</td>\n",
       "      <td>0.010172</td>\n",
       "      <td>NaN</td>\n",
       "      <td>-0.011738</td>\n",
       "      <td>NaN</td>\n",
       "      <td>-0.012944</td>\n",
       "      <td>1.000000</td>\n",
       "      <td>NaN</td>\n",
       "    </tr>\n",
       "    <tr>\n",
       "      <th>log_transaction</th>\n",
       "      <td>-0.053335</td>\n",
       "      <td>0.142262</td>\n",
       "      <td>-0.170131</td>\n",
       "      <td>NaN</td>\n",
       "      <td>0.266041</td>\n",
       "      <td>NaN</td>\n",
       "      <td>0.242192</td>\n",
       "      <td>NaN</td>\n",
       "      <td>1.000000</td>\n",
       "    </tr>\n",
       "  </tbody>\n",
       "</table>\n",
       "</div>"
      ],
      "text/plain": [
       "                        visitId  visitNumber  isMobile  bounces      hits  \\\n",
       "visitId                1.000000     0.002069  0.144332      NaN -0.027701   \n",
       "visitNumber            0.002069     1.000000 -0.037667      NaN  0.041317   \n",
       "isMobile               0.144332    -0.037667  1.000000      NaN -0.030367   \n",
       "bounces                     NaN          NaN       NaN      NaN       NaN   \n",
       "hits                  -0.027701     0.041317 -0.030367      NaN  1.000000   \n",
       "newVisits                   NaN          NaN       NaN      NaN       NaN   \n",
       "pageviews             -0.022259     0.043363 -0.030199      NaN  0.983205   \n",
       "adwordsClickInfo.page -0.011634    -0.005168  0.010172      NaN -0.011738   \n",
       "log_transaction       -0.053335     0.142262 -0.170131      NaN  0.266041   \n",
       "\n",
       "                       newVisits  pageviews  adwordsClickInfo.page  \\\n",
       "visitId                      NaN  -0.022259              -0.011634   \n",
       "visitNumber                  NaN   0.043363              -0.005168   \n",
       "isMobile                     NaN  -0.030199               0.010172   \n",
       "bounces                      NaN        NaN                    NaN   \n",
       "hits                         NaN   0.983205              -0.011738   \n",
       "newVisits                    NaN        NaN                    NaN   \n",
       "pageviews                    NaN   1.000000              -0.012944   \n",
       "adwordsClickInfo.page        NaN  -0.012944               1.000000   \n",
       "log_transaction              NaN   0.242192                    NaN   \n",
       "\n",
       "                       log_transaction  \n",
       "visitId                      -0.053335  \n",
       "visitNumber                   0.142262  \n",
       "isMobile                     -0.170131  \n",
       "bounces                            NaN  \n",
       "hits                          0.266041  \n",
       "newVisits                          NaN  \n",
       "pageviews                     0.242192  \n",
       "adwordsClickInfo.page              NaN  \n",
       "log_transaction               1.000000  "
      ]
     },
     "execution_count": 71,
     "metadata": {},
     "output_type": "execute_result"
    }
   ],
   "source": [
    "final[num_cols + ['log_transaction']].corr()"
   ]
  },
  {
   "cell_type": "markdown",
   "metadata": {},
   "source": [
    "## Feature selection"
   ]
  },
  {
   "cell_type": "code",
   "execution_count": 13,
   "metadata": {},
   "outputs": [],
   "source": [
    "# from sklearn documentation\n",
    "class ItemSelector(BaseEstimator, TransformerMixin):\n",
    "    \"\"\"For data grouped by feature, select subset of data at a provided key.\n",
    "\n",
    "    The data is expected to be stored in a 2D data structure, where the first\n",
    "    index is over features and the second is over samples.  i.e.\n",
    "\n",
    "    >> len(data[key]) == n_samples\n",
    "\n",
    "    Please note that this is the opposite convention to scikit-learn feature\n",
    "    matrixes (where the first index corresponds to sample).\n",
    "\n",
    "    ItemSelector only requires that the collection implement getitem\n",
    "    (data[key]).  Examples include: a dict of lists, 2D numpy array, Pandas\n",
    "    DataFrame, numpy record array, etc.\n",
    "\n",
    "    >> data = {'a': [1, 5, 2, 5, 2, 8],\n",
    "               'b': [9, 4, 1, 4, 1, 3]}\n",
    "    >> ds = ItemSelector(key='a')\n",
    "    >> data['a'] == ds.transform(data)\n",
    "\n",
    "    ItemSelector is not designed to handle data grouped by sample.  (e.g. a\n",
    "    list of dicts).  If your data is structured this way, consider a\n",
    "    transformer along the lines of `sklearn.feature_extraction.DictVectorizer`.\n",
    "\n",
    "    Parameters\n",
    "    ----------\n",
    "    key : hashable, required\n",
    "        The key corresponding to the desired value in a mappable.\n",
    "    \"\"\"\n",
    "    def __init__(self, key):\n",
    "        self.key = key\n",
    "\n",
    "    def fit(self, x, y=None):\n",
    "        return self\n",
    "\n",
    "    def transform(self, data_dict):\n",
    "        return data_dict[self.key]"
   ]
  },
  {
   "cell_type": "code",
   "execution_count": 14,
   "metadata": {},
   "outputs": [
    {
     "data": {
      "text/plain": [
       "{'adwordsClickInfo.criteriaParameters',\n",
       " 'browserSize',\n",
       " 'browserVersion',\n",
       " 'cityId',\n",
       " 'date',\n",
       " 'flashVersion',\n",
       " 'language',\n",
       " 'latitude',\n",
       " 'longitude',\n",
       " 'mobileDeviceBranding',\n",
       " 'mobileDeviceInfo',\n",
       " 'mobileDeviceMarketingName',\n",
       " 'mobileDeviceModel',\n",
       " 'mobileInputSelector',\n",
       " 'networkLocation',\n",
       " 'operatingSystemVersion',\n",
       " 'screenColors',\n",
       " 'screenResolution',\n",
       " 'socialEngagementType',\n",
       " 'visitStartTime',\n",
       " 'visits'}"
      ]
     },
     "execution_count": 14,
     "metadata": {},
     "output_type": "execute_result"
    }
   ],
   "source": [
    "set(feature_cols) ^ set(num_cols + obj_cols)"
   ]
  },
  {
   "cell_type": "code",
   "execution_count": 28,
   "metadata": {},
   "outputs": [
    {
     "ename": "KeyboardInterrupt",
     "evalue": "",
     "output_type": "error",
     "traceback": [
      "\u001b[0;31m---------------------------------------------------------------------------\u001b[0m",
      "\u001b[0;31mKeyboardInterrupt\u001b[0m                         Traceback (most recent call last)",
      "\u001b[0;32m<timed exec>\u001b[0m in \u001b[0;36m<module>\u001b[0;34m()\u001b[0m\n",
      "\u001b[0;32m~/anaconda3/lib/python3.6/site-packages/sklearn/pipeline.py\u001b[0m in \u001b[0;36mfit_transform\u001b[0;34m(self, X, y, **fit_params)\u001b[0m\n\u001b[1;32m    298\u001b[0m         \u001b[0mXt\u001b[0m\u001b[0;34m,\u001b[0m \u001b[0mfit_params\u001b[0m \u001b[0;34m=\u001b[0m \u001b[0mself\u001b[0m\u001b[0;34m.\u001b[0m\u001b[0m_fit\u001b[0m\u001b[0;34m(\u001b[0m\u001b[0mX\u001b[0m\u001b[0;34m,\u001b[0m \u001b[0my\u001b[0m\u001b[0;34m,\u001b[0m \u001b[0;34m**\u001b[0m\u001b[0mfit_params\u001b[0m\u001b[0;34m)\u001b[0m\u001b[0;34m\u001b[0m\u001b[0m\n\u001b[1;32m    299\u001b[0m         \u001b[0;32mif\u001b[0m \u001b[0mhasattr\u001b[0m\u001b[0;34m(\u001b[0m\u001b[0mlast_step\u001b[0m\u001b[0;34m,\u001b[0m \u001b[0;34m'fit_transform'\u001b[0m\u001b[0;34m)\u001b[0m\u001b[0;34m:\u001b[0m\u001b[0;34m\u001b[0m\u001b[0m\n\u001b[0;32m--> 300\u001b[0;31m             \u001b[0;32mreturn\u001b[0m \u001b[0mlast_step\u001b[0m\u001b[0;34m.\u001b[0m\u001b[0mfit_transform\u001b[0m\u001b[0;34m(\u001b[0m\u001b[0mXt\u001b[0m\u001b[0;34m,\u001b[0m \u001b[0my\u001b[0m\u001b[0;34m,\u001b[0m \u001b[0;34m**\u001b[0m\u001b[0mfit_params\u001b[0m\u001b[0;34m)\u001b[0m\u001b[0;34m\u001b[0m\u001b[0m\n\u001b[0m\u001b[1;32m    301\u001b[0m         \u001b[0;32melif\u001b[0m \u001b[0mlast_step\u001b[0m \u001b[0;32mis\u001b[0m \u001b[0;32mNone\u001b[0m\u001b[0;34m:\u001b[0m\u001b[0;34m\u001b[0m\u001b[0m\n\u001b[1;32m    302\u001b[0m             \u001b[0;32mreturn\u001b[0m \u001b[0mXt\u001b[0m\u001b[0;34m\u001b[0m\u001b[0m\n",
      "\u001b[0;32m~/anaconda3/lib/python3.6/site-packages/sklearn/base.py\u001b[0m in \u001b[0;36mfit_transform\u001b[0;34m(self, X, y, **fit_params)\u001b[0m\n\u001b[1;32m    463\u001b[0m         \u001b[0;32melse\u001b[0m\u001b[0;34m:\u001b[0m\u001b[0;34m\u001b[0m\u001b[0m\n\u001b[1;32m    464\u001b[0m             \u001b[0;31m# fit method of arity 2 (supervised transformation)\u001b[0m\u001b[0;34m\u001b[0m\u001b[0;34m\u001b[0m\u001b[0m\n\u001b[0;32m--> 465\u001b[0;31m             \u001b[0;32mreturn\u001b[0m \u001b[0mself\u001b[0m\u001b[0;34m.\u001b[0m\u001b[0mfit\u001b[0m\u001b[0;34m(\u001b[0m\u001b[0mX\u001b[0m\u001b[0;34m,\u001b[0m \u001b[0my\u001b[0m\u001b[0;34m,\u001b[0m \u001b[0;34m**\u001b[0m\u001b[0mfit_params\u001b[0m\u001b[0;34m)\u001b[0m\u001b[0;34m.\u001b[0m\u001b[0mtransform\u001b[0m\u001b[0;34m(\u001b[0m\u001b[0mX\u001b[0m\u001b[0;34m)\u001b[0m\u001b[0;34m\u001b[0m\u001b[0m\n\u001b[0m\u001b[1;32m    466\u001b[0m \u001b[0;34m\u001b[0m\u001b[0m\n\u001b[1;32m    467\u001b[0m \u001b[0;34m\u001b[0m\u001b[0m\n",
      "\u001b[0;32m~/anaconda3/lib/python3.6/site-packages/category_encoders/leave_one_out.py\u001b[0m in \u001b[0;36mfit\u001b[0;34m(self, X, y, **kwargs)\u001b[0m\n\u001b[1;32m    137\u001b[0m             \u001b[0mX_temp\u001b[0m \u001b[0;34m=\u001b[0m \u001b[0mself\u001b[0m\u001b[0;34m.\u001b[0m\u001b[0mtransform\u001b[0m\u001b[0;34m(\u001b[0m\u001b[0mX\u001b[0m\u001b[0;34m)\u001b[0m\u001b[0;34m\u001b[0m\u001b[0m\n\u001b[1;32m    138\u001b[0m             \u001b[0mgenerated_cols\u001b[0m \u001b[0;34m=\u001b[0m \u001b[0mget_generated_cols\u001b[0m\u001b[0;34m(\u001b[0m\u001b[0mX\u001b[0m\u001b[0;34m,\u001b[0m \u001b[0mX_temp\u001b[0m\u001b[0;34m,\u001b[0m \u001b[0mself\u001b[0m\u001b[0;34m.\u001b[0m\u001b[0mcols\u001b[0m\u001b[0;34m)\u001b[0m\u001b[0;34m\u001b[0m\u001b[0m\n\u001b[0;32m--> 139\u001b[0;31m             \u001b[0mself\u001b[0m\u001b[0;34m.\u001b[0m\u001b[0mdrop_cols\u001b[0m \u001b[0;34m=\u001b[0m \u001b[0;34m[\u001b[0m\u001b[0mx\u001b[0m \u001b[0;32mfor\u001b[0m \u001b[0mx\u001b[0m \u001b[0;32min\u001b[0m \u001b[0mgenerated_cols\u001b[0m \u001b[0;32mif\u001b[0m \u001b[0mX_temp\u001b[0m\u001b[0;34m[\u001b[0m\u001b[0mx\u001b[0m\u001b[0;34m]\u001b[0m\u001b[0;34m.\u001b[0m\u001b[0mvar\u001b[0m\u001b[0;34m(\u001b[0m\u001b[0;34m)\u001b[0m \u001b[0;34m<=\u001b[0m \u001b[0;36m10e-5\u001b[0m\u001b[0;34m]\u001b[0m\u001b[0;34m\u001b[0m\u001b[0m\n\u001b[0m\u001b[1;32m    140\u001b[0m \u001b[0;34m\u001b[0m\u001b[0m\n\u001b[1;32m    141\u001b[0m         \u001b[0;32mreturn\u001b[0m \u001b[0mself\u001b[0m\u001b[0;34m\u001b[0m\u001b[0m\n",
      "\u001b[0;32m~/anaconda3/lib/python3.6/site-packages/category_encoders/leave_one_out.py\u001b[0m in \u001b[0;36mleave_one_out\u001b[0;34m(self, X_in, y, mapping, cols, impute_missing, handle_unknown)\u001b[0m\n\u001b[1;32m    253\u001b[0m                 \u001b[0;32melif\u001b[0m \u001b[0mhandle_unknown\u001b[0m \u001b[0;34m==\u001b[0m \u001b[0;34m'error'\u001b[0m\u001b[0;34m:\u001b[0m\u001b[0;34m\u001b[0m\u001b[0m\n\u001b[1;32m    254\u001b[0m                     \u001b[0mmissing\u001b[0m \u001b[0;34m=\u001b[0m \u001b[0mtransformed_column\u001b[0m\u001b[0;34m.\u001b[0m\u001b[0misnull\u001b[0m\u001b[0;34m(\u001b[0m\u001b[0;34m)\u001b[0m\u001b[0;34m\u001b[0m\u001b[0m\n\u001b[0;32m--> 255\u001b[0;31m                     \u001b[0;32mif\u001b[0m \u001b[0many\u001b[0m\u001b[0;34m(\u001b[0m\u001b[0mmissing\u001b[0m\u001b[0;34m)\u001b[0m\u001b[0;34m:\u001b[0m\u001b[0;34m\u001b[0m\u001b[0m\n\u001b[0m\u001b[1;32m    256\u001b[0m                         \u001b[0;32mraise\u001b[0m \u001b[0mValueError\u001b[0m\u001b[0;34m(\u001b[0m\u001b[0;34m'Unexpected categories found in column %s'\u001b[0m \u001b[0;34m%\u001b[0m \u001b[0mcolumn\u001b[0m\u001b[0;34m)\u001b[0m\u001b[0;34m\u001b[0m\u001b[0m\n\u001b[1;32m    257\u001b[0m \u001b[0;34m\u001b[0m\u001b[0m\n",
      "\u001b[0;32m~/anaconda3/lib/python3.6/site-packages/pandas/core/ops.py\u001b[0m in \u001b[0;36mwrapper\u001b[0;34m(self, other, axis)\u001b[0m\n\u001b[1;32m   1281\u001b[0m \u001b[0;34m\u001b[0m\u001b[0m\n\u001b[1;32m   1282\u001b[0m             \u001b[0;32mwith\u001b[0m \u001b[0mnp\u001b[0m\u001b[0;34m.\u001b[0m\u001b[0merrstate\u001b[0m\u001b[0;34m(\u001b[0m\u001b[0mall\u001b[0m\u001b[0;34m=\u001b[0m\u001b[0;34m'ignore'\u001b[0m\u001b[0;34m)\u001b[0m\u001b[0;34m:\u001b[0m\u001b[0;34m\u001b[0m\u001b[0m\n\u001b[0;32m-> 1283\u001b[0;31m                 \u001b[0mres\u001b[0m \u001b[0;34m=\u001b[0m \u001b[0mna_op\u001b[0m\u001b[0;34m(\u001b[0m\u001b[0mvalues\u001b[0m\u001b[0;34m,\u001b[0m \u001b[0mother\u001b[0m\u001b[0;34m)\u001b[0m\u001b[0;34m\u001b[0m\u001b[0m\n\u001b[0m\u001b[1;32m   1284\u001b[0m             \u001b[0;32mif\u001b[0m \u001b[0mis_scalar\u001b[0m\u001b[0;34m(\u001b[0m\u001b[0mres\u001b[0m\u001b[0;34m)\u001b[0m\u001b[0;34m:\u001b[0m\u001b[0;34m\u001b[0m\u001b[0m\n\u001b[1;32m   1285\u001b[0m                 raise TypeError('Could not compare {typ} type with Series'\n",
      "\u001b[0;32m~/anaconda3/lib/python3.6/site-packages/pandas/core/ops.py\u001b[0m in \u001b[0;36mna_op\u001b[0;34m(x, y)\u001b[0m\n\u001b[1;32m   1141\u001b[0m \u001b[0;34m\u001b[0m\u001b[0m\n\u001b[1;32m   1142\u001b[0m         \u001b[0;32melif\u001b[0m \u001b[0mis_object_dtype\u001b[0m\u001b[0;34m(\u001b[0m\u001b[0mx\u001b[0m\u001b[0;34m.\u001b[0m\u001b[0mdtype\u001b[0m\u001b[0;34m)\u001b[0m\u001b[0;34m:\u001b[0m\u001b[0;34m\u001b[0m\u001b[0m\n\u001b[0;32m-> 1143\u001b[0;31m             \u001b[0mresult\u001b[0m \u001b[0;34m=\u001b[0m \u001b[0m_comp_method_OBJECT_ARRAY\u001b[0m\u001b[0;34m(\u001b[0m\u001b[0mop\u001b[0m\u001b[0;34m,\u001b[0m \u001b[0mx\u001b[0m\u001b[0;34m,\u001b[0m \u001b[0my\u001b[0m\u001b[0;34m)\u001b[0m\u001b[0;34m\u001b[0m\u001b[0m\n\u001b[0m\u001b[1;32m   1144\u001b[0m \u001b[0;34m\u001b[0m\u001b[0m\n\u001b[1;32m   1145\u001b[0m         \u001b[0;32melif\u001b[0m \u001b[0mis_datetimelike_v_numeric\u001b[0m\u001b[0;34m(\u001b[0m\u001b[0mx\u001b[0m\u001b[0;34m,\u001b[0m \u001b[0my\u001b[0m\u001b[0;34m)\u001b[0m\u001b[0;34m:\u001b[0m\u001b[0;34m\u001b[0m\u001b[0m\n",
      "\u001b[0;32m~/anaconda3/lib/python3.6/site-packages/pandas/core/ops.py\u001b[0m in \u001b[0;36m_comp_method_OBJECT_ARRAY\u001b[0;34m(op, x, y)\u001b[0m\n\u001b[1;32m   1120\u001b[0m         \u001b[0mresult\u001b[0m \u001b[0;34m=\u001b[0m \u001b[0mlibops\u001b[0m\u001b[0;34m.\u001b[0m\u001b[0mvec_compare\u001b[0m\u001b[0;34m(\u001b[0m\u001b[0mx\u001b[0m\u001b[0;34m,\u001b[0m \u001b[0my\u001b[0m\u001b[0;34m,\u001b[0m \u001b[0mop\u001b[0m\u001b[0;34m)\u001b[0m\u001b[0;34m\u001b[0m\u001b[0m\n\u001b[1;32m   1121\u001b[0m     \u001b[0;32melse\u001b[0m\u001b[0;34m:\u001b[0m\u001b[0;34m\u001b[0m\u001b[0m\n\u001b[0;32m-> 1122\u001b[0;31m         \u001b[0mresult\u001b[0m \u001b[0;34m=\u001b[0m \u001b[0mlibops\u001b[0m\u001b[0;34m.\u001b[0m\u001b[0mscalar_compare\u001b[0m\u001b[0;34m(\u001b[0m\u001b[0mx\u001b[0m\u001b[0;34m,\u001b[0m \u001b[0my\u001b[0m\u001b[0;34m,\u001b[0m \u001b[0mop\u001b[0m\u001b[0;34m)\u001b[0m\u001b[0;34m\u001b[0m\u001b[0m\n\u001b[0m\u001b[1;32m   1123\u001b[0m     \u001b[0;32mreturn\u001b[0m \u001b[0mresult\u001b[0m\u001b[0;34m\u001b[0m\u001b[0m\n\u001b[1;32m   1124\u001b[0m \u001b[0;34m\u001b[0m\u001b[0m\n",
      "\u001b[0;31mKeyboardInterrupt\u001b[0m: "
     ]
    }
   ],
   "source": [
    "%%time \n",
    "result = categorical_pipe.fit_transform(final, final['transactionRevenue'])"
   ]
  },
  {
   "cell_type": "code",
   "execution_count": 79,
   "metadata": {},
   "outputs": [],
   "source": [
    "result2 = numerical_pipe.fit_transform(final.fillna(0), final['transactionRevenue'])"
   ]
  },
  {
   "cell_type": "code",
   "execution_count": 85,
   "metadata": {},
   "outputs": [
    {
     "data": {
      "text/plain": [
       "0    892138\n",
       "1     11515\n",
       "Name: has_transaction, dtype: int64"
      ]
     },
     "execution_count": 85,
     "metadata": {},
     "output_type": "execute_result"
    }
   ],
   "source": [
    "final['has_transaction'].value_counts()"
   ]
  },
  {
   "cell_type": "code",
   "execution_count": 27,
   "metadata": {},
   "outputs": [],
   "source": [
    "from sklearn.datasets import make_classification\n",
    "from sklearn.ensemble import ExtraTreesClassifier, RandomForestClassifier\n",
    "from sklearn.preprocessing import Imputer\n",
    "# building model with pipes\n",
    "categorical_pipe = make_pipeline(ItemSelector(obj_cols), ce.leave_one_out.LeaveOneOutEncoder())\n",
    "    \n",
    "#categorical_pipe = make_pipeline(ItemSelector(obj_cols), ce.ordinal.OrdinalEncoder())\n",
    "\n",
    "#boolean_pipe = make_pipeline(ItemSelector(booleans), ce.one_hot.OneHotEncoder())\n",
    "\n",
    "numerical_pipe = make_pipeline(ItemSelector(num_cols), RobustScaler())\n",
    "\n",
    "transform_pipe = \\\n",
    "make_pipeline(\n",
    "    FeatureUnion(n_jobs = 8, transformer_list = [\n",
    "        ('cats', categorical_pipe),\n",
    "        #('bools', boolean_pipe),\n",
    "        ('nums', numerical_pipe)\n",
    "        ])\n",
    ") \n",
    "\n",
    "final_pipe = \\\n",
    "make_pipeline(\n",
    "    FeatureUnion(n_jobs = 8, transformer_list = [\n",
    "        ('cats', categorical_pipe),\n",
    "        #('bools', boolean_pipe),\n",
    "        ('nums', numerical_pipe)\n",
    "        ]), \n",
    "    ExtraTreesClassifier(n_jobs = 8, n_estimators=250,\n",
    "                              random_state=0)\n",
    ")"
   ]
  },
  {
   "cell_type": "code",
   "execution_count": 123,
   "metadata": {},
   "outputs": [
    {
     "data": {
      "text/plain": [
       "FeatureUnion(n_jobs=8,\n",
       "       transformer_list=[('cats', Pipeline(memory=None,\n",
       "     steps=[('itemselector', ItemSelector(key=['channelGrouping', 'sessionId', 'browser', 'deviceCategory', 'operatingSystem', 'city', 'continent', 'country', 'metro', 'networkDomain', 'region', 'subContinent', 'adContent', 'adwordsClickInfo.adNetwork...stScaler(copy=True, quantile_range=(25.0, 75.0), with_centering=True,\n",
       "       with_scaling=True))]))],\n",
       "       transformer_weights=None)"
      ]
     },
     "execution_count": 123,
     "metadata": {},
     "output_type": "execute_result"
    }
   ],
   "source": [
    "transform_pipe.__dict__['steps'][0][1]"
   ]
  },
  {
   "cell_type": "code",
   "execution_count": 170,
   "metadata": {},
   "outputs": [
    {
     "data": {
      "text/plain": [
       "33"
      ]
     },
     "execution_count": 170,
     "metadata": {},
     "output_type": "execute_result"
    }
   ],
   "source": [
    "len(obj_cols+num_cols)"
   ]
  },
  {
   "cell_type": "code",
   "execution_count": 181,
   "metadata": {},
   "outputs": [],
   "source": [
    "feature_dict = {num:key for num, key in enumerate(obj_cols+num_cols)}"
   ]
  },
  {
   "cell_type": "code",
   "execution_count": 182,
   "metadata": {},
   "outputs": [
    {
     "data": {
      "text/plain": [
       "{0: 'channelGrouping', 1: 'sessionId', 2: 'browser', 3: 'deviceCategory', 4: 'operatingSystem', 5: 'city', 6: 'continent', 7: 'country', 8: 'metro', 9: 'networkDomain', 10: 'region', 11: 'subContinent', 12: 'adContent', 13: 'adwordsClickInfo.adNetworkType', 14: 'adwordsClickInfo.gclId', 15: 'adwordsClickInfo.isVideoAd', 16: 'adwordsClickInfo.slot', 17: 'campaign', 18: 'campaignCode', 19: 'isTrueDirect', 20: 'keyword', 21: 'medium', 22: 'referralPath', 23: 'source', 24: 'fullVisitorId', 25: 'visitId', 26: 'visitNumber', 27: 'isMobile', 28: 'bounces', 29: 'hits', 30: 'newVisits', 31: 'pageviews', 32: 'adwordsClickInfo.page'}"
      ]
     },
     "execution_count": 182,
     "metadata": {},
     "output_type": "execute_result"
    }
   ],
   "source": [
    "feature_dict"
   ]
  },
  {
   "cell_type": "code",
   "execution_count": 142,
   "metadata": {},
   "outputs": [
    {
     "data": {
      "text/plain": [
       "{'key': ['channelGrouping', 'sessionId', 'browser', 'deviceCategory', 'operatingSystem', 'city', 'continent', 'country', 'metro', 'networkDomain', 'region', 'subContinent', 'adContent', 'adwordsClickInfo.adNetworkType', 'adwordsClickInfo.gclId', 'adwordsClickInfo.isVideoAd', 'adwordsClickInfo.slot', 'campaign', 'campaignCode', 'isTrueDirect', 'keyword', 'medium', 'referralPath', 'source']}"
      ]
     },
     "execution_count": 142,
     "metadata": {},
     "output_type": "execute_result"
    }
   ],
   "source": [
    "from pprint import pprint\n",
    "transform_pipe.__dict__['steps'][0][1].__dict__['transformer_list'][0][1].__dict__['steps'][0][1].__dict__"
   ]
  },
  {
   "cell_type": "code",
   "execution_count": 184,
   "metadata": {},
   "outputs": [
    {
     "name": "stdout",
     "output_type": "stream",
     "text": [
      "1. feature pageviews (0.213363)\n",
      "2. feature hits (0.172309)\n",
      "3. feature visitId (0.097445)\n",
      "4. feature sessionId (0.090241)\n",
      "5. feature fullVisitorId (0.088626)\n",
      "6. feature networkDomain (0.057707)\n",
      "7. feature visitNumber (0.041172)\n",
      "8. feature city (0.036833)\n",
      "9. feature metro (0.030266)\n",
      "10. feature operatingSystem (0.029805)\n",
      "11. feature region (0.027759)\n",
      "12. feature browser (0.011878)\n",
      "13. feature bounces (0.011622)\n",
      "14. feature country (0.010722)\n",
      "15. feature newVisits (0.010303)\n",
      "16. feature continent (0.009713)\n",
      "17. feature subContinent (0.009511)\n",
      "18. feature source (0.008337)\n",
      "19. feature channelGrouping (0.007314)\n",
      "20. feature isTrueDirect (0.006830)\n",
      "21. feature medium (0.005875)\n",
      "22. feature referralPath (0.005775)\n",
      "23. feature keyword (0.004312)\n",
      "24. feature deviceCategory (0.003288)\n",
      "25. feature isMobile (0.003282)\n",
      "26. feature adwordsClickInfo.gclId (0.003099)\n",
      "27. feature campaign (0.000833)\n",
      "28. feature adContent (0.000725)\n",
      "29. feature adwordsClickInfo.slot (0.000341)\n",
      "30. feature adwordsClickInfo.adNetworkType (0.000257)\n",
      "31. feature adwordsClickInfo.isVideoAd (0.000234)\n",
      "32. feature adwordsClickInfo.page (0.000222)\n",
      "33. feature campaignCode (0.000000)\n"
     ]
    },
    {
     "data": {
      "image/png": "[encoded data removed]",
      "text/plain": [
       "<Figure size 432x288 with 1 Axes>"
      ]
     },
     "metadata": {},
     "output_type": "display_data"
    }
   ],
   "source": [
    "# # http://scikit-learn.org/stable/auto_examples/ensemble/plot_forest_importances.html#sphx-glr-auto-examples-ensemble-plot-forest-importances-py\n",
    "# from collections import OrderedDict\n",
    "\n",
    "# # Build a forest and compute the feature importances\n",
    "# forest = ExtraTreesClassifier(n_jobs = 8, n_estimators=250, random_state=0)\n",
    "\n",
    "# result = transform_pipe.fit_transform(final)\n",
    "# forest.fit(result, final['has_transaction'])\n",
    "\n",
    "# importances = forest.feature_importances_\n",
    "# std = np.std([tree.feature_importances_ for tree in forest.estimators_],\n",
    "#              axis=0)\n",
    "# indices = np.argsort(importances)[::-1]\n",
    "\n",
    "# # Print the feature ranking\n",
    "# print(\"Feature ranking:\")\n",
    "\n",
    "featimp_dict = OrderedDict()\n",
    "for f in range(result.shape[1]):\n",
    "    print(\"%d. feature %s (%f)\" % (f + 1, feature_dict[indices[f]], importances[indices[f]]))\n",
    "    featimp_dict[feature_dict[indices[f]]] = importances[indices[f]]\n",
    "    \n",
    "# Plot the feature importances of the forest\n",
    "plt.figure()\n",
    "plt.title(\"Feature importances\")\n",
    "plt.bar(range(result.shape[1]), importances[indices],\n",
    "       color=\"r\", yerr=std[indices], align=\"center\")\n",
    "plt.xticks(range(result.shape[1]), featimp_dict.keys(), rotation = 90)\n",
    "plt.xlim([-1, result.shape[1]])\n",
    "plt.show()"
   ]
  },
  {
   "cell_type": "code",
   "execution_count": 199,
   "metadata": {},
   "outputs": [],
   "source": [
    "rf = RandomForestClassifier(random_state = 42, n_jobs = 8, n_estimators=300)\n",
    "rf.fit(result, final['has_transaction'])"
   ]
  },
  {
   "cell_type": "code",
   "execution_count": 202,
   "metadata": {},
   "outputs": [],
   "source": [
    "featimp_dict = {key:val for key, val in zip(obj_cols+num_cols, rf.feature_importances_)}"
   ]
  },
  {
   "cell_type": "code",
   "execution_count": 212,
   "metadata": {},
   "outputs": [
    {
     "data": {
      "text/plain": [
       "0.006707064626942998"
      ]
     },
     "execution_count": 212,
     "metadata": {},
     "output_type": "execute_result"
    }
   ],
   "source": [
    "featimp_dict.get('channelGrouping')"
   ]
  },
  {
   "cell_type": "code",
   "execution_count": 218,
   "metadata": {},
   "outputs": [],
   "source": [
    "from collections import OrderedDict\n",
    "from operator import itemgetter\n",
    "forest_imp_order = OrderedDict(sorted(featimp_dict.items(), key=itemgetter(1), reverse=True))\n",
    "\n"
   ]
  },
  {
   "cell_type": "code",
   "execution_count": 222,
   "metadata": {},
   "outputs": [],
   "source": [
    "freq_visitors = final.fullVisitorId.value_counts()[0:20]"
   ]
  },
  {
   "cell_type": "code",
   "execution_count": 230,
   "metadata": {},
   "outputs": [
    {
     "data": {
      "text/html": [
       "<div>\n",
       "<style scoped>\n",
       "    .dataframe tbody tr th:only-of-type {\n",
       "        vertical-align: middle;\n",
       "    }\n",
       "\n",
       "    .dataframe tbody tr th {\n",
       "        vertical-align: top;\n",
       "    }\n",
       "\n",
       "    .dataframe thead th {\n",
       "        text-align: right;\n",
       "    }\n",
       "</style>\n",
       "<table border=\"1\" class=\"dataframe\">\n",
       "  <thead>\n",
       "    <tr style=\"text-align: right;\">\n",
       "      <th></th>\n",
       "      <th>channelGrouping</th>\n",
       "      <th>date</th>\n",
       "      <th>fullVisitorId</th>\n",
       "      <th>sessionId</th>\n",
       "      <th>socialEngagementType</th>\n",
       "      <th>visitId</th>\n",
       "      <th>visitNumber</th>\n",
       "      <th>visitStartTime</th>\n",
       "      <th>browser</th>\n",
       "      <th>browserSize</th>\n",
       "      <th>...</th>\n",
       "      <th>adwordsClickInfo.slot</th>\n",
       "      <th>campaign</th>\n",
       "      <th>campaignCode</th>\n",
       "      <th>isTrueDirect</th>\n",
       "      <th>keyword</th>\n",
       "      <th>medium</th>\n",
       "      <th>referralPath</th>\n",
       "      <th>source</th>\n",
       "      <th>has_transaction</th>\n",
       "      <th>log_transaction</th>\n",
       "    </tr>\n",
       "  </thead>\n",
       "  <tbody>\n",
       "    <tr>\n",
       "      <th>0</th>\n",
       "      <td>Organic Search</td>\n",
       "      <td>2016-09-02</td>\n",
       "      <td>1131660440785968503</td>\n",
       "      <td>1131660440785968503_1472830385</td>\n",
       "      <td>Not Socially Engaged</td>\n",
       "      <td>1472830385</td>\n",
       "      <td>1</td>\n",
       "      <td>2016-09-02 15:33:05</td>\n",
       "      <td>Chrome</td>\n",
       "      <td>not available in demo dataset</td>\n",
       "      <td>...</td>\n",
       "      <td>NaN</td>\n",
       "      <td>(not set)</td>\n",
       "      <td>none</td>\n",
       "      <td>NaN</td>\n",
       "      <td>(not provided)</td>\n",
       "      <td>organic</td>\n",
       "      <td>NaN</td>\n",
       "      <td>google</td>\n",
       "      <td>0</td>\n",
       "      <td>NaN</td>\n",
       "    </tr>\n",
       "    <tr>\n",
       "      <th>1</th>\n",
       "      <td>Organic Search</td>\n",
       "      <td>2016-09-02</td>\n",
       "      <td>377306020877927890</td>\n",
       "      <td>377306020877927890_1472880147</td>\n",
       "      <td>Not Socially Engaged</td>\n",
       "      <td>1472880147</td>\n",
       "      <td>1</td>\n",
       "      <td>2016-09-03 05:22:27</td>\n",
       "      <td>Firefox</td>\n",
       "      <td>not available in demo dataset</td>\n",
       "      <td>...</td>\n",
       "      <td>NaN</td>\n",
       "      <td>(not set)</td>\n",
       "      <td>none</td>\n",
       "      <td>NaN</td>\n",
       "      <td>(not provided)</td>\n",
       "      <td>organic</td>\n",
       "      <td>NaN</td>\n",
       "      <td>google</td>\n",
       "      <td>0</td>\n",
       "      <td>NaN</td>\n",
       "    </tr>\n",
       "    <tr>\n",
       "      <th>2</th>\n",
       "      <td>Organic Search</td>\n",
       "      <td>2016-09-02</td>\n",
       "      <td>3895546263509774583</td>\n",
       "      <td>3895546263509774583_1472865386</td>\n",
       "      <td>Not Socially Engaged</td>\n",
       "      <td>1472865386</td>\n",
       "      <td>1</td>\n",
       "      <td>2016-09-03 01:16:26</td>\n",
       "      <td>Chrome</td>\n",
       "      <td>not available in demo dataset</td>\n",
       "      <td>...</td>\n",
       "      <td>NaN</td>\n",
       "      <td>(not set)</td>\n",
       "      <td>none</td>\n",
       "      <td>NaN</td>\n",
       "      <td>(not provided)</td>\n",
       "      <td>organic</td>\n",
       "      <td>NaN</td>\n",
       "      <td>google</td>\n",
       "      <td>0</td>\n",
       "      <td>NaN</td>\n",
       "    </tr>\n",
       "    <tr>\n",
       "      <th>3</th>\n",
       "      <td>Organic Search</td>\n",
       "      <td>2016-09-02</td>\n",
       "      <td>4763447161404445595</td>\n",
       "      <td>4763447161404445595_1472881213</td>\n",
       "      <td>Not Socially Engaged</td>\n",
       "      <td>1472881213</td>\n",
       "      <td>1</td>\n",
       "      <td>2016-09-03 05:40:13</td>\n",
       "      <td>UC Browser</td>\n",
       "      <td>not available in demo dataset</td>\n",
       "      <td>...</td>\n",
       "      <td>NaN</td>\n",
       "      <td>(not set)</td>\n",
       "      <td>none</td>\n",
       "      <td>NaN</td>\n",
       "      <td>google + online</td>\n",
       "      <td>organic</td>\n",
       "      <td>NaN</td>\n",
       "      <td>google</td>\n",
       "      <td>0</td>\n",
       "      <td>NaN</td>\n",
       "    </tr>\n",
       "    <tr>\n",
       "      <th>4</th>\n",
       "      <td>Organic Search</td>\n",
       "      <td>2016-09-02</td>\n",
       "      <td>27294437909732085</td>\n",
       "      <td>27294437909732085_1472822600</td>\n",
       "      <td>Not Socially Engaged</td>\n",
       "      <td>1472822600</td>\n",
       "      <td>2</td>\n",
       "      <td>2016-09-02 13:23:20</td>\n",
       "      <td>Chrome</td>\n",
       "      <td>not available in demo dataset</td>\n",
       "      <td>...</td>\n",
       "      <td>NaN</td>\n",
       "      <td>(not set)</td>\n",
       "      <td>none</td>\n",
       "      <td>True</td>\n",
       "      <td>(not provided)</td>\n",
       "      <td>organic</td>\n",
       "      <td>NaN</td>\n",
       "      <td>google</td>\n",
       "      <td>0</td>\n",
       "      <td>NaN</td>\n",
       "    </tr>\n",
       "  </tbody>\n",
       "</table>\n",
       "<p>5 rows × 57 columns</p>\n",
       "</div>"
      ],
      "text/plain": [
       "  channelGrouping       date        fullVisitorId  \\\n",
       "0  Organic Search 2016-09-02  1131660440785968503   \n",
       "1  Organic Search 2016-09-02   377306020877927890   \n",
       "2  Organic Search 2016-09-02  3895546263509774583   \n",
       "3  Organic Search 2016-09-02  4763447161404445595   \n",
       "4  Organic Search 2016-09-02    27294437909732085   \n",
       "\n",
       "                        sessionId  socialEngagementType     visitId  \\\n",
       "0  1131660440785968503_1472830385  Not Socially Engaged  1472830385   \n",
       "1   377306020877927890_1472880147  Not Socially Engaged  1472880147   \n",
       "2  3895546263509774583_1472865386  Not Socially Engaged  1472865386   \n",
       "3  4763447161404445595_1472881213  Not Socially Engaged  1472881213   \n",
       "4    27294437909732085_1472822600  Not Socially Engaged  1472822600   \n",
       "\n",
       "   visitNumber      visitStartTime     browser                    browserSize  \\\n",
       "0            1 2016-09-02 15:33:05      Chrome  not available in demo dataset   \n",
       "1            1 2016-09-03 05:22:27     Firefox  not available in demo dataset   \n",
       "2            1 2016-09-03 01:16:26      Chrome  not available in demo dataset   \n",
       "3            1 2016-09-03 05:40:13  UC Browser  not available in demo dataset   \n",
       "4            2 2016-09-02 13:23:20      Chrome  not available in demo dataset   \n",
       "\n",
       "        ...       adwordsClickInfo.slot   campaign campaignCode  isTrueDirect  \\\n",
       "0       ...                         NaN  (not set)         none           NaN   \n",
       "1       ...                         NaN  (not set)         none           NaN   \n",
       "2       ...                         NaN  (not set)         none           NaN   \n",
       "3       ...                         NaN  (not set)         none           NaN   \n",
       "4       ...                         NaN  (not set)         none          True   \n",
       "\n",
       "           keyword   medium referralPath  source has_transaction  \\\n",
       "0   (not provided)  organic          NaN  google               0   \n",
       "1   (not provided)  organic          NaN  google               0   \n",
       "2   (not provided)  organic          NaN  google               0   \n",
       "3  google + online  organic          NaN  google               0   \n",
       "4   (not provided)  organic          NaN  google               0   \n",
       "\n",
       "  log_transaction  \n",
       "0             NaN  \n",
       "1             NaN  \n",
       "2             NaN  \n",
       "3             NaN  \n",
       "4             NaN  \n",
       "\n",
       "[5 rows x 57 columns]"
      ]
     },
     "execution_count": 230,
     "metadata": {},
     "output_type": "execute_result"
    }
   ],
   "source": [
    "final.head()"
   ]
  },
  {
   "cell_type": "code",
   "execution_count": 231,
   "metadata": {},
   "outputs": [],
   "source": [
    "visitor_example = final[final.fullVisitorId == freq_visitors.index[0]].sort_values('visitStartTime')"
   ]
  },
  {
   "cell_type": "code",
   "execution_count": 236,
   "metadata": {},
   "outputs": [
    {
     "data": {
      "text/plain": [
       "Index(['channelGrouping', 'date', 'fullVisitorId', 'sessionId',\n",
       "       'socialEngagementType', 'visitId', 'visitNumber', 'visitStartTime',\n",
       "       'browser', 'browserSize', 'browserVersion', 'deviceCategory',\n",
       "       'flashVersion', 'isMobile', 'language', 'mobileDeviceBranding',\n",
       "       'mobileDeviceInfo', 'mobileDeviceMarketingName', 'mobileDeviceModel',\n",
       "       'mobileInputSelector', 'operatingSystem', 'operatingSystemVersion',\n",
       "       'screenColors', 'screenResolution', 'city', 'cityId', 'continent',\n",
       "       'country', 'latitude', 'longitude', 'metro', 'networkDomain',\n",
       "       'networkLocation', 'region', 'subContinent', 'bounces', 'hits',\n",
       "       'newVisits', 'pageviews', 'transactionRevenue', 'visits', 'adContent',\n",
       "       'adwordsClickInfo.adNetworkType', 'adwordsClickInfo.criteriaParameters',\n",
       "       'adwordsClickInfo.gclId', 'adwordsClickInfo.isVideoAd',\n",
       "       'adwordsClickInfo.page', 'adwordsClickInfo.slot', 'campaign',\n",
       "       'campaignCode', 'isTrueDirect', 'keyword', 'medium', 'referralPath',\n",
       "       'source', 'has_transaction', 'log_transaction'],\n",
       "      dtype='object')"
      ]
     },
     "execution_count": 236,
     "metadata": {},
     "output_type": "execute_result"
    }
   ],
   "source": [
    "visitor_example.columns"
   ]
  },
  {
   "cell_type": "code",
   "execution_count": 5,
   "metadata": {},
   "outputs": [],
   "source": [
    "sns.set_style('whitegrid')\n"
   ]
  },
  {
   "cell_type": "code",
   "execution_count": 290,
   "metadata": {},
   "outputs": [
    {
     "data": {
      "image/png": "[encoded data removed]",
      "text/plain": [
       "<Figure size 648x432 with 1 Axes>"
      ]
     },
     "metadata": {},
     "output_type": "display_data"
    }
   ],
   "source": [
    "_ = visitor_example[['visitStartTime', 'transactionRevenue']].fillna(0).hist(figsize=(9,6))\n",
    "_ = plt.xlabel('Dollar amount')\n",
    "_ = plt.ylabel('Count')\n",
    "_ = plt.title('Revenue histogram')"
   ]
  },
  {
   "cell_type": "code",
   "execution_count": 296,
   "metadata": {},
   "outputs": [
    {
     "data": {
      "image/png": "[encoded data removed]",
      "text/plain": [
       "<Figure size 648x432 with 1 Axes>"
      ]
     },
     "metadata": {},
     "output_type": "display_data"
    }
   ],
   "source": [
    "_ = plt.figure(figsize = (9,6))\n",
    "_ = sns.lineplot(x = 'visitStartTime', y = 'transactionRevenue', data = visitor_example[['visitStartTime', 'transactionRevenue']].fillna(0))\n",
    "_ = plt.xticks(rotation = 90)\n",
    "\n"
   ]
  }
 ],
 "metadata": {
  "kernelspec": {
   "display_name": "Python 3",
   "language": "python",
   "name": "python3"
  },
  "language_info": {
   "codemirror_mode": {
    "name": "ipython",
    "version": 3
   },
   "file_extension": ".py",
   "mimetype": "text/x-python",
   "name": "python",
   "nbconvert_exporter": "python",
   "pygments_lexer": "ipython3",
   "version": "3.6.6"
  }
 },
 "nbformat": 4,
 "nbformat_minor": 2
}
